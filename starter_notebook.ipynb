{
  "cells": [
    {
      "cell_type": "markdown",
      "metadata": {
        "id": "LPVUemGzkZXt"
      },
      "source": [
        "# MLIP hackathon starter notebook"
      ]
    },
    {
      "cell_type": "markdown",
      "metadata": {
        "id": "WZbvC8Gq3qPz"
      },
      "source": [
        "In this challenge, we train a Machine Learning Interatomic Potential (MLIP) model using the [`mlip`](https://github.com/instadeepai/mlip) library.\n",
        "\n",
        "If you run this on Google Colab, make sure to select a GPU runtime (Runtime > Change runtime type > Hardware accelerator > GPU)."
      ]
    },
    {
      "cell_type": "code",
      "execution_count": null,
      "metadata": {
        "id": "eLsahv2MlU12"
      },
      "outputs": [],
      "source": [
        "!pip install mlip \"jax[cuda12]\""
      ]
    },
    {
      "cell_type": "markdown",
      "metadata": {
        "id": "9bd0DkOGeScx"
      },
      "source": [
        "**Install, required imports, and logging setup**\n"
      ]
    },
    {
      "cell_type": "code",
      "execution_count": 1,
      "metadata": {
        "id": "7j0nxIefksNG"
      },
      "outputs": [],
      "source": [
        "import os\n",
        "import numpy as np\n",
        "import pandas as pd\n",
        "import logging\n",
        "import matplotlib.pyplot as plt\n",
        "\n",
        "# For dataset loading\n",
        "from mlip.data import GraphDatasetBuilder, ExtxyzReader\n",
        "\n",
        "# For model\n",
        "from mlip.models import Mace, Nequip, Visnet, ForceField\n",
        "\n",
        "# For optimizer\n",
        "import optax\n",
        "\n",
        "# For loss function\n",
        "from mlip.models.loss import MSELoss\n",
        "\n",
        "# For training\n",
        "from mlip.training import TrainingLoop\n",
        "from mlip.models.model_io import save_model_to_zip, load_model_from_zip\n",
        "from mlip.models.params_loading import load_parameters_from_checkpoint\n",
        "\n",
        "# For checkpointing\n",
        "from mlip.training import TrainingIOHandler, log_metrics_to_line\n",
        "from mlip.training.training_io_handler import LogCategory\n",
        "\n",
        "# Set up logging\n",
        "logging.basicConfig(level=logging.INFO, force=True, format='%(levelname)s - %(message)s')\n",
        "\n",
        "# Set dedicated logging for mlip. Set this to logging.DEBUG to see more detailed logs.\n",
        "logging.getLogger(\"mlip\").setLevel(logging.INFO)"
      ]
    },
    {
      "cell_type": "markdown",
      "metadata": {
        "id": "Ru3fIT7Tq24A"
      },
      "source": [
        "Let's also check what device we are using:"
      ]
    },
    {
      "cell_type": "code",
      "execution_count": 2,
      "metadata": {
        "colab": {
          "base_uri": "https://localhost:8080/"
        },
        "id": "i7bAOYOrqxN8",
        "outputId": "8bdf4436-266a-42bb-cd55-40d20dadaa6c"
      },
      "outputs": [
        {
          "output_type": "stream",
          "name": "stderr",
          "text": [
            "INFO - Unable to initialize backend 'rocm': module 'jaxlib.xla_extension' has no attribute 'GpuAllocatorConfig'\n",
            "INFO - Unable to initialize backend 'tpu': INTERNAL: Failed to open libtpu.so: libtpu.so: cannot open shared object file: No such file or directory\n"
          ]
        },
        {
          "output_type": "stream",
          "name": "stdout",
          "text": [
            "[CudaDevice(id=0)]\n"
          ]
        }
      ],
      "source": [
        "import jax\n",
        "\n",
        "print(jax.devices())"
      ]
    },
    {
      "cell_type": "markdown",
      "metadata": {
        "id": "cksPWIwMkt-G"
      },
      "source": [
        "## 1. Preparing a dataset"
      ]
    },
    {
      "cell_type": "markdown",
      "metadata": {
        "id": "OkHNCGbVwyCK"
      },
      "source": [
        "For this example, we train on configurations of a molecule called [3-(benzyloxy)pyridin-2-amine](https://pubchem.ncbi.nlm.nih.gov/substance/854545) (molecular formula `C12H12N2O`, abbreviated as `3BPA`) sampled with Molecular Dynamics at a temperature of 300 Kelvin.\n",
        "\n",
        "It's molecular structure consists of a **pyridin-2-amine core**:\n",
        "\n",
        " * A **pyridine ring** (six-membered aromatic ring with one nitrogen atom).\n",
        "\n",
        " * An **amino group (-NH₂)** at the 2-position of the pyridine ring (adjacent to the nitrogen).\n",
        "\n",
        "Benzyloxy substituent at position 3:\n",
        "\n",
        " * A **benzyloxy group (-OCH₂C₆H₅)** is attached to the 3-position of the pyridine ring.\n",
        "\n",
        " * This consists of a **methylene bridge (–CH₂–)** bonded to a **phenyl ring (C₆H₅)**, connected via an **ether linkage (–O–)**.\n",
        "\n",
        "![3BPA](https://go.drugbank.com/structures/DB02352/thumb.svg)"
      ]
    },
    {
      "cell_type": "markdown",
      "metadata": {
        "id": "CsWBkN4xlU14"
      },
      "source": [
        "The data processing **is a two step process**:\n",
        "\n",
        "1. **We read the data from disk into [`ChemicalSystem`](https://instadeepai.github.io/mlip/api_reference/data/chemical_system.html) objects**. This is done by a \"reader\", and since the dataset is stored in extended xyz format, it can be read with the [`ExtxyzReader`](https://instadeepai.github.io/mlip/api_reference/data/chemical_systems_readers/extxyz_reader.html). The *mlip* library also includes a HDF5 format reader: [`Hdf5Reader`](https://instadeepai.github.io/mlip/api_reference/data/chemical_systems_readers/hdf5_reader.html)."
      ]
    },
    {
      "cell_type": "code",
      "execution_count": 3,
      "metadata": {
        "colab": {
          "base_uri": "https://localhost:8080/"
        },
        "id": "dAV2wyZGlU15",
        "outputId": "4cbf171d-96b2-4f58-8687-4ed1145e7c97"
      },
      "outputs": [
        {
          "output_type": "stream",
          "name": "stderr",
          "text": [
            "--2025-07-09 16:16:22--  https://raw.githubusercontent.com/BioGeek/hackathon_IndabaX_2025_mlip/refs/heads/main/data/test_public.xyz\n",
            "Resolving raw.githubusercontent.com (raw.githubusercontent.com)... 185.199.110.133, 185.199.111.133, 185.199.108.133, ...\n",
            "Connecting to raw.githubusercontent.com (raw.githubusercontent.com)|185.199.110.133|:443... connected.\n",
            "HTTP request sent, awaiting response... 200 OK\n",
            "Length: 389600 (380K) [text/plain]\n",
            "Saving to: ‘data/test_public.xyz’\n",
            "\n",
            "     0K .......... .......... .......... .......... .......... 13% 3.56M 0s\n",
            "    50K .......... .......... .......... .......... .......... 26% 20.3M 0s\n",
            "   100K .......... .......... .......... .......... .......... 39% 9.22M 0s\n",
            "   150K .......... .......... .......... .......... .......... 52% 36.9M 0s\n",
            "   200K .......... .......... .......... .......... .......... 65% 44.5M 0s\n",
            "   250K .......... .......... .......... .......... .......... 78% 59.8M 0s\n",
            "   300K .......... .......... .......... .......... .......... 91% 11.8M 0s\n",
            "   350K .......... .......... ..........                      100% 34.1M=0.03s\n",
            "\n",
            "2025-07-09 16:16:22 (12.5 MB/s) - ‘data/test_public.xyz’ saved [389600/389600]\n",
            "\n",
            "--2025-07-09 16:16:22--  https://raw.githubusercontent.com/BioGeek/hackathon_IndabaX_2025_mlip/refs/heads/main/data/train.xyz\n",
            "Resolving raw.githubusercontent.com (raw.githubusercontent.com)... 185.199.111.133, 185.199.108.133, 185.199.110.133, ...\n",
            "Connecting to raw.githubusercontent.com (raw.githubusercontent.com)|185.199.111.133|:443... connected.\n",
            "HTTP request sent, awaiting response... 200 OK\n",
            "Length: 1504880 (1.4M) [text/plain]\n",
            "Saving to: ‘data/train.xyz’\n",
            "\n",
            "     0K .......... .......... .......... .......... ..........  3% 3.42M 0s\n",
            "    50K .......... .......... .......... .......... ..........  6% 18.1M 0s\n",
            "   100K .......... .......... .......... .......... .......... 10% 8.52M 0s\n",
            "   150K .......... .......... .......... .......... .......... 13% 37.0M 0s\n",
            "   200K .......... .......... .......... .......... .......... 17% 36.8M 0s\n",
            "   250K .......... .......... .......... .......... .......... 20% 10.8M 0s\n",
            "   300K .......... .......... .......... .......... .......... 23%  117M 0s\n",
            "   350K .......... .......... .......... .......... .......... 27% 70.4M 0s\n",
            "   400K .......... .......... .......... .......... .......... 30% 60.1M 0s\n",
            "   450K .......... .......... .......... .......... .......... 34% 51.7M 0s\n",
            "   500K .......... .......... .......... .......... .......... 37% 17.5M 0s\n",
            "   550K .......... .......... .......... .......... .......... 40% 39.1M 0s\n",
            "   600K .......... .......... .......... .......... .......... 44%  101M 0s\n",
            "   650K .......... .......... .......... .......... .......... 47% 57.7M 0s\n",
            "   700K .......... .......... .......... .......... .......... 51%  168M 0s\n",
            "   750K .......... .......... .......... .......... .......... 54%  112M 0s\n",
            "   800K .......... .......... .......... .......... .......... 57%  238M 0s\n",
            "   850K .......... .......... .......... .......... .......... 61%  115M 0s\n",
            "   900K .......... .......... .......... .......... .......... 64%  108M 0s\n",
            "   950K .......... .......... .......... .......... .......... 68%  221M 0s\n",
            "  1000K .......... .......... .......... .......... .......... 71% 19.9M 0s\n",
            "  1050K .......... .......... .......... .......... .......... 74%  242M 0s\n",
            "  1100K .......... .......... .......... .......... .......... 78%  282M 0s\n",
            "  1150K .......... .......... .......... .......... .......... 81% 37.2M 0s\n",
            "  1200K .......... .......... .......... .......... .......... 85%  220M 0s\n",
            "  1250K .......... .......... .......... .......... .......... 88%  306M 0s\n",
            "  1300K .......... .......... .......... .......... .......... 91% 51.8M 0s\n",
            "  1350K .......... .......... .......... .......... .......... 95%  293M 0s\n",
            "  1400K .......... .......... .......... .......... .......... 98%  240M 0s\n",
            "  1450K .......... .........                                  100%  355M=0.05s\n",
            "\n",
            "2025-07-09 16:16:22 (31.2 MB/s) - ‘data/train.xyz’ saved [1504880/1504880]\n",
            "\n",
            "--2025-07-09 16:16:22--  https://raw.githubusercontent.com/BioGeek/hackathon_IndabaX_2025_mlip/refs/heads/main/data/validation.xyz\n",
            "Resolving raw.githubusercontent.com (raw.githubusercontent.com)... 185.199.108.133, 185.199.109.133, 185.199.110.133, ...\n",
            "Connecting to raw.githubusercontent.com (raw.githubusercontent.com)|185.199.108.133|:443... connected.\n",
            "HTTP request sent, awaiting response... 200 OK\n",
            "Length: 299961 (293K) [text/plain]\n",
            "Saving to: ‘data/validation.xyz’\n",
            "\n",
            "     0K .......... .......... .......... .......... .......... 17% 3.07M 0s\n",
            "    50K .......... .......... .......... .......... .......... 34% 16.2M 0s\n",
            "   100K .......... .......... .......... .......... .......... 51% 7.32M 0s\n",
            "   150K .......... .......... .......... .......... .......... 68% 33.0M 0s\n",
            "   200K .......... .......... .......... .......... .......... 85% 32.8M 0s\n",
            "   250K .......... .......... .......... .......... ..        100% 11.9M=0.03s\n",
            "\n",
            "2025-07-09 16:16:22 (8.91 MB/s) - ‘data/validation.xyz’ saved [299961/299961]\n",
            "\n"
          ]
        }
      ],
      "source": [
        "%%bash\n",
        "mkdir -p data\n",
        "\n",
        "[ -f data/test_public.xyz ] || wget -P data https://raw.githubusercontent.com/BioGeek/hackathon_IndabaX_2025_mlip/refs/heads/main/data/test_public.xyz\n",
        "[ -f data/train.xyz ] || wget -P data https://raw.githubusercontent.com/BioGeek/hackathon_IndabaX_2025_mlip/refs/heads/main/data/train.xyz\n",
        "[ -f data/validation.xyz ] || wget -P data https://raw.githubusercontent.com/BioGeek/hackathon_IndabaX_2025_mlip/refs/heads/main/data/validation.xyz"
      ]
    },
    {
      "cell_type": "code",
      "execution_count": 4,
      "metadata": {
        "id": "MxbTwW74kwrN"
      },
      "outputs": [],
      "source": [
        "reader = ExtxyzReader(\n",
        "    ExtxyzReader.Config(\n",
        "        train_dataset_paths=\"data/train.xyz\",\n",
        "        valid_dataset_paths=\"data/validation.xyz\")\n",
        ")"
      ]
    },
    {
      "cell_type": "markdown",
      "metadata": {
        "id": "PkLW_jW2xS1t"
      },
      "source": [
        "2. **We process these [`ChemicalSystem`](https://instadeepai.github.io/mlip/api_reference/data/chemical_system.html) objects into graphs.** This process uses the class [`GraphDatasetBuilder`](https://instadeepai.github.io/mlip/api_reference/data/graph_dataset_builder.html) which offers some degree of customisation through its [config class](https://instadeepai.github.io/mlip/api_reference/data/dataset_configs.html#mlip.data.configs.GraphDatasetBuilderConfig).\n",
        "\n"
      ]
    },
    {
      "cell_type": "code",
      "execution_count": 5,
      "metadata": {
        "colab": {
          "base_uri": "https://localhost:8080/",
          "height": 336,
          "referenced_widgets": [
            "bfaa9aaa27964f43bae0af8b931dce12",
            "a8457c2aad654f4da121d8d3702a3c8d",
            "f8fe4c34965646508dcac2a3b1fd9824",
            "079649a817814ec9a86020de4e7f13a7",
            "f198e9fe79684dbca223e66db0f2b7c4",
            "c57c2139a65f47c3bb3a9b8331bae08a",
            "80df69a7b9e040fb9c16f8b1adec1b06",
            "a5f6d97ffd8944a8aa16ff20bffb4c4f",
            "2d7e119a950647edb908e5378cf10b40",
            "e471e0b66e26488a8136620f214f4e8d",
            "d010bb53846e4790b2134977545e133f",
            "9c58148651564ac3be7af82d69c787cb",
            "24430d9d3aac49dd80e1fdde4a8057d8",
            "7347e2aa33444981b6d1927d030cf5ed",
            "54c1220d296e4257b52f8a962f007130",
            "eeef1161b87a4be9b9fe760db3740e80",
            "3efa2b370ae741989f59654173c86a56",
            "381d173ea6f2413ba28d2982af85aa39",
            "5ca270dcddf442f1b7cae5275be76136",
            "d26dffdb2c3d4de99bde124cbc12c683",
            "56406e18b577423fbf2abc5d31c5a1bb",
            "bc65ab988f8149efb1940c62c8ae2834",
            "1b3c7effe5094a7a970771e337c7d545",
            "fa23ff0ff18f40e5911876f0efbb7cc9",
            "600f3e410f4a4fe3894a5aa1cd23d3a4",
            "86b4f48a49cb437eafac1a13316f4a3e",
            "ceea0523dc1b486eba6b0357aa467c29",
            "6273dd33c56249e7b1d493b62b4065e2",
            "0d161921bb1f475a9196e5a5109b8c92",
            "05c7a75ddc0b45d59eacce03468f32ce",
            "c8e2c65314244e7988e2fd31a4d32d40",
            "ef1429fb00544e7da8270770e0a71a6e",
            "5b2e790c5cb94de690d2daa940d4c508",
            "c52d75a7389843e493530e9a244f310a",
            "c09ea59459824960862d5ed37cbda136",
            "d57c951372f741a196d08ff773fbbccf",
            "59ec1e8783554866a53806ded14f0a98",
            "47784065a3ce41789dc930e6326a6fae",
            "b6c63f2ca93941829c64052b9a9f6346",
            "c9e3acc826484d019000be4c84affd35",
            "6be3ece365ee4a2aad7b26313d7433ae",
            "7442ba6736b14ecb8de9d5673a690640",
            "606f30bcf7b74051bf87e27ba6399c01",
            "f7650176229046408c58337538db988c"
          ]
        },
        "id": "tXjGxXwul4kT",
        "outputId": "b928f4f5-070b-4b06-efaf-76784271b868"
      },
      "outputs": [
        {
          "output_type": "display_data",
          "data": {
            "text/plain": [
              "Graph creation:   0%|          | 0/500 [00:00<?, ?it/s]"
            ],
            "application/vnd.jupyter.widget-view+json": {
              "version_major": 2,
              "version_minor": 0,
              "model_id": "bfaa9aaa27964f43bae0af8b931dce12"
            }
          },
          "metadata": {}
        },
        {
          "output_type": "display_data",
          "data": {
            "text/plain": [
              "valid graph creation:   0%|          | 0/100 [00:00<?, ?it/s]"
            ],
            "application/vnd.jupyter.widget-view+json": {
              "version_major": 2,
              "version_minor": 0,
              "model_id": "9c58148651564ac3be7af82d69c787cb"
            }
          },
          "metadata": {}
        },
        {
          "output_type": "display_data",
          "data": {
            "text/plain": [
              "test graph creation: 0it [00:00, ?it/s]"
            ],
            "application/vnd.jupyter.widget-view+json": {
              "version_major": 2,
              "version_minor": 0,
              "model_id": "1b3c7effe5094a7a970771e337c7d545"
            }
          },
          "metadata": {}
        },
        {
          "output_type": "stream",
          "name": "stderr",
          "text": [
            "INFO - Starting to compute mandatory dataset statistics: this may take some time...\n"
          ]
        },
        {
          "output_type": "display_data",
          "data": {
            "text/plain": [
              "Average number of neighbors computation:   0%|          | 0/500 [00:00<?, ?it/s]"
            ],
            "application/vnd.jupyter.widget-view+json": {
              "version_major": 2,
              "version_minor": 0,
              "model_id": "c52d75a7389843e493530e9a244f310a"
            }
          },
          "metadata": {}
        },
        {
          "output_type": "stream",
          "name": "stderr",
          "text": [
            "INFO - Processed 10% of data\n",
            "INFO - Processed 20% of data\n",
            "INFO - Processed 30% of data\n",
            "INFO - Processed 40% of data\n",
            "INFO - Processed 50% of data\n",
            "INFO - Processed 60% of data\n",
            "INFO - Processed 70% of data\n",
            "INFO - Processed 80% of data\n",
            "INFO - Processed 90% of data\n",
            "INFO - Processed 100% of data\n"
          ]
        }
      ],
      "source": [
        "builder_config = GraphDatasetBuilder.Config(\n",
        "    graph_cutoff_angstrom=5.0,\n",
        "    batch_size=16,\n",
        ")\n",
        "\n",
        "builder = GraphDatasetBuilder(reader, builder_config)\n",
        "builder.prepare_datasets() # This step is required to compute all dataset information (used later on by most MLIP model)\n",
        "\n",
        "train_set, validation_set, _ = builder.get_splits()"
      ]
    },
    {
      "cell_type": "markdown",
      "metadata": {
        "id": "DHq_F75zxb-D"
      },
      "source": [
        "More information can be found in the [deep-dive on data processing](https://instadeepai.github.io/mlip/user_guide/data_processing.html)  in our documentation for more details.\n",
        "\n",
        "We can now **print some statistics about our dataset** along with the [`DatasetInfo`](https://instadeepai.github.io/mlip/api_reference/data/dataset_info.html) object that will be required for downstream tasks. The **dataset info** holds all the hyperparameters of the models that are directly derived from the dataset or its processing, e.g., the cutoff distance to determine the graph edges."
      ]
    },
    {
      "cell_type": "code",
      "execution_count": 10,
      "metadata": {
        "colab": {
          "base_uri": "https://localhost:8080/"
        },
        "id": "d6cER4-oroyQ",
        "outputId": "5d35b97e-9064-4a04-8afa-ca1ef1ee32dd"
      },
      "outputs": [
        {
          "output_type": "stream",
          "name": "stdout",
          "text": [
            "Dataset info: Atomic Energies: {'H': -723.2941604798493, 'C': -723.2941604798525, 'N': -120.54902674664157, 'O': -60.27451337332064}, Avg. num. neighbors: 16.72, Avg. r_min: 1.00, Graph cutoff distance: 5.0\n",
            "Number of batches in train set: 32\n",
            "Number of batches in validation set: 7\n"
          ]
        }
      ],
      "source": [
        "print(\"Dataset info:\", builder.dataset_info)\n",
        "print(\"Number of batches in train set:\", len(train_set))\n",
        "print(\"Number of batches in validation set:\", len(validation_set))"
      ]
    },
    {
      "cell_type": "markdown",
      "metadata": {
        "id": "OGTiyZ1IlU15"
      },
      "source": [
        "The atomic energies and forces are stored in the `energy` and `forces` attributes of the [`ChemicalSystem`](https://instadeepai.github.io/mlip/api_reference/data/chemical_system.html) objects, respectively. The energies are in [eV](https://en.wikipedia.org/wiki/Electronvolt), and the forces are in eV/[Å](https://en.wikipedia.org/wiki/Angstrom)."
      ]
    },
    {
      "cell_type": "markdown",
      "metadata": {
        "id": "Ts8Pv7Aqo0wp"
      },
      "source": [
        "## 2. Preparing a training loop"
      ]
    },
    {
      "cell_type": "markdown",
      "metadata": {
        "id": "I5_9_VPfxmIr"
      },
      "source": [
        "To start training, we first need to prepare some prerequisites. These are, as for all ML models:\n",
        "- A **model architecture**,\n",
        "- An **optimizer**, and\n",
        "- A **loss function**\n",
        "\n",
        "We start with the **model architecture**:\n",
        "\n",
        "We can use one of the pre-defined models in the *mlip* library, such as MACE, NequIP, or ViSNet. These models are designed to handle molecular graphs and can be configured with various hyperparameters.\n",
        "\n",
        "For this tutorial, we provide the initialization code for MACE, NequIP and ViSnet, but commented out two of them. For all the hyperparameters available, see the documentations of the [MACE config](https://instadeepai.github.io/mlip/api_reference/models/mace.html#mlip.models.mace.config.MaceConfig), the [NequIP config](https://instadeepai.github.io/mlip/api_reference/models/nequip.html#mlip.models.nequip.config.NequipConfig), and the [ViSNet config](https://instadeepai.github.io/mlip/api_reference/models/visnet.html#mlip.models.visnet.config.VisnetConfig).\n",
        "\n",
        "The model creation process includes two steps:\n",
        "* 1: the creation of the MLIP network and\n",
        "* 2:the creation  of the force field.\n",
        "\n",
        "See our [deep-dive on models](https://instadeepai.github.io/mlip/user_guide/models.html) for a detailed explanation of this pattern.\n",
        "\n",
        "**Hint**: try some of the other pre-defined models by uncommenting the lines below and running the cell again. You can also try to change some of the hyperparameters in the config classes, e.g., the number of layers or channels"
      ]
    },
    {
      "cell_type": "code",
      "execution_count": 456,
      "metadata": {
        "colab": {
          "base_uri": "https://localhost:8080/"
        },
        "id": "Q4VU3zb6o1_9",
        "outputId": "8de9bd3f-ec01-452e-a68c-367303837bb2"
      },
      "outputs": [
        {
          "output_type": "execute_result",
          "data": {
            "text/plain": [
              "Visnet(\n",
              "    # attributes\n",
              "    config = VisnetConfig(num_layers=8, num_channels=64, l_max=2, num_heads=8, num_rbf=32, trainable_rbf=False, activation=<Activation.SILU: 'silu'>, attn_activation=<Activation.SILU: 'silu'>, vecnorm_type=<VecNormType.NONE: 'none'>, atomic_energies=None, num_species=None)\n",
              "    dataset_info = DatasetInfo(atomic_energies_map={1: -723.2941604798493, 6: -723.2941604798525, 7: -120.54902674664157, 8: -60.27451337332064}, cutoff_distance_angstrom=5.0, avg_num_neighbors=16.717037037037038, avg_r_min_angstrom=0.9992400407791138, scaling_mean=0.0, scaling_stdev=1.0)\n",
              ")"
            ]
          },
          "metadata": {},
          "execution_count": 456
        }
      ],
      "source": [
        "# We override some of the default hyperparameters\n",
        "# of the model to make it smaller such that this training example becomes more minimal\n",
        "# mlip_network = Mace(\n",
        "#     Mace.Config(num_channels=16, correlation=3),\n",
        "#     builder.dataset_info,\n",
        "# )\n",
        "\n",
        "# mlip_network = Nequip(\n",
        "#     Nequip.Config(\n",
        "#         node_irreps=\"128x0e + 128x0o + 64x1o + 64x1e + 4x2e + 4x2o\",\n",
        "#         # \"4x0e + 4x0o + 4x1o + 4x1e + 4x2e + 4x2o\",\n",
        "#         num_layers=4,\n",
        "#     ),\n",
        "#     builder.dataset_info,\n",
        "# )\n",
        "\n",
        "mlip_network = Visnet(\n",
        "    Visnet.Config(num_channels=64, num_layers=8),\n",
        "    builder.dataset_info,\n",
        "    # num_heads=16\n",
        ")\n",
        "\n",
        "mlip_network"
      ]
    },
    {
      "cell_type": "markdown",
      "metadata": {
        "id": "KZPgyPdplU16"
      },
      "source": [
        "The force field will be the essential object required for the training below, as well as for running MD simulations."
      ]
    },
    {
      "cell_type": "code",
      "execution_count": 457,
      "metadata": {
        "id": "VJmZ6EmzlU16"
      },
      "outputs": [],
      "source": [
        "force_field = ForceField.from_mlip_network(mlip_network)"
      ]
    },
    {
      "cell_type": "markdown",
      "metadata": {
        "id": "zj6OHwN3x3uu"
      },
      "source": [
        "Next, we **create an optimizer**:\n",
        "\n",
        "The *mlip* library is set up so that you can use any [`optax`](https://github.com/google-deepmind/optax) optimizer you like, here we've chosen for [`optax.adam`](https://optax.readthedocs.io/en/latest/api/optimizers.html#optax.adam).\n",
        "\n",
        "**Hint:** Also try an optimizer specialized for MLIP models (see [this](https://instadeepai.github.io/mlip/api_reference/training/optimizer.html#mlip.training.optimizer.get_default_mlip_optimizer) part of the documentation for more details)."
      ]
    },
    {
      "cell_type": "code",
      "execution_count": 458,
      "metadata": {
        "colab": {
          "base_uri": "https://localhost:8080/"
        },
        "id": "_PRdkIPopJc4",
        "outputId": "dd8340b5-12e0-4858-c593-978930121c38"
      },
      "outputs": [
        {
          "output_type": "execute_result",
          "data": {
            "text/plain": [
              "GradientTransformationExtraArgs(init=<function chain.<locals>.init_fn at 0x7cf1ebc04540>, update=<function chain.<locals>.update_fn at 0x7cf1e1c02340>)"
            ]
          },
          "metadata": {},
          "execution_count": 458
        }
      ],
      "source": [
        "# optimizer = optax.adam(learning_rate=1e-3)\n",
        "optimizer = optax.adabelief(learning_rate=1e-3)\n",
        "optimizer"
      ]
    },
    {
      "cell_type": "markdown",
      "metadata": {
        "id": "47NWAw7uyL3D"
      },
      "source": [
        "For the **loss**:\n",
        "\n",
        "We use a Mean-Squared-Error (MSE) loss, that by default uses a weighting factor of 25.0 for MSE of forces, 1.0 for MSE of energies, and zero for MSE of stress (which is not available in this dataset). See [this](https://instadeepai.github.io/mlip/user_guide/training.html#loss) part of the documentation for more information on further options such as alternative loss functions and how to create a weight flip schedule between energy and forces."
      ]
    },
    {
      "cell_type": "code",
      "execution_count": 459,
      "metadata": {
        "id": "Cj4d_ZoopJa6"
      },
      "outputs": [],
      "source": [
        "energy_weight_schedule = optax.piecewise_constant_schedule(5.0, {100: 25.0})\n",
        "forces_weight_schedule = optax.piecewise_constant_schedule(1.0, {100: 0.04})\n",
        "loss = MSELoss(energy_weight_schedule, forces_weight_schedule)"
      ]
    },
    {
      "cell_type": "markdown",
      "metadata": {
        "id": "I7qOM_vSlU16"
      },
      "source": [
        "We can now set up a **custom I/O handler** with checkpointing for training:\n",
        "\n",
        "The I/O handler class is documented [here](https://instadeepai.github.io/mlip/api_reference/training/training_io_handling.html). Also check out [this](https://instadeepai.github.io/mlip/user_guide/training.html#io-handling-and-logging) part in our deep-dive on logging for more information. The code below adds a local directory for checkpointing to the I/O handler, which activates checkpointing during training."
      ]
    },
    {
      "cell_type": "code",
      "execution_count": 460,
      "metadata": {
        "colab": {
          "base_uri": "https://localhost:8080/"
        },
        "id": "zoaaXD7NlU16",
        "outputId": "508f8b2a-44c0-4b7f-9771-c3be685da971"
      },
      "outputs": [
        {
          "output_type": "stream",
          "name": "stderr",
          "text": [
            "INFO - Cleaning up existing temporary directories at /content/training/model_training/model.\n"
          ]
        }
      ],
      "source": [
        "io_handler = TrainingIOHandler(\n",
        "    TrainingIOHandler.Config(\n",
        "        local_model_output_dir=\"training/model_training\"\n",
        "    )\n",
        ")"
      ]
    },
    {
      "cell_type": "markdown",
      "metadata": {
        "id": "HVptSCsulU16"
      },
      "source": [
        "Next, we can **attach logging functions to the I/O handler**:\n",
        "\n",
        "Users can attached as many logging functions as required to the I/O handler. In this example, we attach two.\n",
        "1. The [`log_metrics_to_line`](https://instadeepai.github.io/mlip/api_reference/training/training_io_handling.html#mlip.training.training_loggers.log_metrics_to_line) function that is also included in the default I/O handler that we used in the previous example.\n",
        "2. A custom function that just keeps track of the validation set losses, so we can later easily create a curve from it."
      ]
    },
    {
      "cell_type": "code",
      "execution_count": 461,
      "metadata": {
        "id": "OvGu40RYlU16"
      },
      "outputs": [],
      "source": [
        "# The following logger is also attached in the default I/O handler\n",
        "# that was used in the training above\n",
        "io_handler.attach_logger(log_metrics_to_line)\n",
        "\n",
        "# Define a custom logging function that keeps track of validation loss\n",
        "validation_losses = []\n",
        "def _custom_logger(category, to_log, epoch_number):\n",
        "  if category == LogCategory.EVAL_METRICS:\n",
        "    validation_losses.append(to_log[\"loss\"])\n",
        "\n",
        "# Attach our custom logging function to the I/O handler\n",
        "io_handler.attach_logger(_custom_logger)"
      ]
    },
    {
      "cell_type": "markdown",
      "metadata": {
        "id": "zskGftVJlU16"
      },
      "source": [
        "The custom logging function is called several times during the training loop with the argument `category` (e.g. `TRAIN_METRICS`, `EVAL_METRICS`) telling the function what is currently being logged, for example, train or evaluation metrics. It is of enum type [`LogCategory`](https://instadeepai.github.io/mlip/api_reference/training/training_io_handling.html#mlip.training.training_io_handler.LogCategory). See the documentation of the built-in function [`log_metrics_to_line`](https://instadeepai.github.io/mlip/api_reference/training/training_io_handling.html#mlip.training.training_loggers.log_metrics_to_line) for what we expect the logging function's signature to be."
      ]
    },
    {
      "cell_type": "markdown",
      "metadata": {
        "id": "3zjiQX3d3EsK"
      },
      "source": [
        "Finally, we can **create our training loop**:\n",
        "\n",
        "At a minimum, it needs as input:\n",
        "- a training dataset\n",
        "- a validation dataset\n",
        "- a force field\n",
        "- a loss\n",
        "- an optimizer\n",
        "- a config (which specifies for instace the number of epochs)\n",
        "\n",
        "Note that the config is documented [here](https://instadeepai.github.io/mlip/api_reference/training/training_loop_config.html). Its only argument that lacks a default value is the number of epochs to train for."
      ]
    },
    {
      "cell_type": "code",
      "execution_count": 462,
      "metadata": {
        "colab": {
          "base_uri": "https://localhost:8080/"
        },
        "id": "nyNXJW6SurAD",
        "outputId": "92ca4a07-5557-4112-f1db-141ef806e6e2",
        "scrolled": true
      },
      "outputs": [
        {
          "output_type": "stream",
          "name": "stderr",
          "text": [
            "INFO - Number of parameters: 553474\n",
            "INFO - Number of parameters in optimizer: 1106949\n"
          ]
        }
      ],
      "source": [
        "training_config = TrainingLoop.Config(num_epochs=30)\n",
        "\n",
        "training_loop = TrainingLoop(\n",
        "    train_dataset=train_set,\n",
        "    validation_dataset=validation_set,\n",
        "    force_field=force_field,\n",
        "    loss=loss,\n",
        "    optimizer=optimizer,\n",
        "    config=training_config,\n",
        "    io_handler=io_handler,\n",
        ")"
      ]
    },
    {
      "cell_type": "markdown",
      "metadata": {
        "id": "ecbtfdFa8iJc"
      },
      "source": [
        "## 3. Running a training loop"
      ]
    },
    {
      "cell_type": "code",
      "source": [
        "exp = 'exp30'"
      ],
      "metadata": {
        "id": "XmoFvIBOUrQV"
      },
      "execution_count": 463,
      "outputs": []
    },
    {
      "cell_type": "markdown",
      "metadata": {
        "id": "wTre9bQD3IbJ"
      },
      "source": [
        "**Running the loop**:\n",
        "\n",
        "The following box runs the prepared training loop. Note that training will be a **lot more efficient for GPU users** (depending on the GPU, one should expect ~1s to ~12s per epoch, once the code is compiled) - for CPU users our measures ranged from ~12s to ~100s per epoch."
      ]
    },
    {
      "cell_type": "code",
      "execution_count": null,
      "metadata": {
        "colab": {
          "base_uri": "https://localhost:8080/"
        },
        "id": "Eef9QrDPvJs7",
        "outputId": "0c968de6-8b5e-41cd-f48b-930e1fc364b1"
      },
      "outputs": [
        {
          "output_type": "stream",
          "name": "stderr",
          "text": [
            "INFO - Starting training loop...\n",
            "INFO - Validation: Loss = 3.353 | Mae e = 0.762 | Mae f = 1.366 | Rmse e = 0.939 | Rmse f = 1.829\n",
            "INFO - Best model: Loss = 3.353 | Best epoch = 0\n"
          ]
        }
      ],
      "source": [
        "training_loop.run()"
      ]
    },
    {
      "cell_type": "markdown",
      "metadata": {
        "id": "-Ie0uQOvlU17"
      },
      "source": [
        "We can now **access the information stored** by the custom logger saved into our validation loss list:"
      ]
    },
    {
      "cell_type": "markdown",
      "source": [
        "## VisNet"
      ],
      "metadata": {
        "id": "lzPLcvicyUiW"
      }
    },
    {
      "cell_type": "code",
      "source": [
        "# Exp 30 energy init 5 epoch 30, layers 4, channels 32, adabelief,\n",
        "print(validation_losses)"
      ],
      "metadata": {
        "id": "TvXtw5oF1JPG"
      },
      "execution_count": null,
      "outputs": []
    },
    {
      "cell_type": "code",
      "source": [
        "# Exp 29 energy init 5 epoch 30, layers 4, channels 32, adabelief,\n",
        "print(validation_losses)"
      ],
      "metadata": {
        "id": "2BGHWQM_0IPP",
        "outputId": "1a36470f-88be-4421-c72e-5dd7cdcf4385",
        "colab": {
          "base_uri": "https://localhost:8080/"
        }
      },
      "execution_count": 448,
      "outputs": [
        {
          "output_type": "stream",
          "name": "stdout",
          "text": [
            "[3.6527078, 1.5743781, 1.0618808, 0.7877899, 0.6199752, 0.5042814, 0.4299871, 0.37541825, 0.33187866, 0.29868641, 0.27276978, 0.25184482, 0.23410094, 0.21964605, 0.20651479, 0.19493172, 0.18488578, 0.17616622, 0.16756734, 0.16003893, 0.15241101, 0.14502013, 0.13848244, 0.1322141, 0.1263496, 0.120691724, 0.115251854, 0.110095166, 0.10505249, 0.10064407, 0.09684355]\n"
          ]
        }
      ]
    },
    {
      "cell_type": "code",
      "source": [
        "# Exp 28 energy init 5 epoch 30, layers 4, channels 32, adabelief,\n",
        "print(validation_losses)"
      ],
      "metadata": {
        "id": "cJIY_-mjznFd",
        "outputId": "50d1c82c-5c6f-4683-f219-9198575fc313",
        "colab": {
          "base_uri": "https://localhost:8080/"
        }
      },
      "execution_count": 438,
      "outputs": [
        {
          "output_type": "stream",
          "name": "stdout",
          "text": [
            "[3.6928947, 1.8799231, 1.1696118, 0.8639372, 0.6968845, 0.585495, 0.50456333, 0.4441062, 0.3949693, 0.35478798, 0.3229024, 0.29749233, 0.27816266, 0.2630318, 0.25125402, 0.24256018, 0.23521546, 0.22907723, 0.22346239, 0.2176871, 0.21225266, 0.20751092, 0.20295584, 0.19816872, 0.194114, 0.18990973, 0.18623722, 0.18222351, 0.17893852, 0.17574005, 0.17216003]\n"
          ]
        }
      ]
    },
    {
      "cell_type": "code",
      "source": [
        "# Exp 27 energy init 5 epoch 30, layers 4, channels 16, adabelief,\n",
        "print(validation_losses)"
      ],
      "metadata": {
        "id": "msGi3xGoyWJZ",
        "outputId": "32d73d2b-f1b3-4477-f276-430ca995d14c",
        "colab": {
          "base_uri": "https://localhost:8080/"
        }
      },
      "execution_count": 417,
      "outputs": [
        {
          "output_type": "stream",
          "name": "stdout",
          "text": [
            "[3.5128968, 2.582428, 1.8481327, 1.4146897, 1.1303989, 0.94190687, 0.8021856, 0.6906453, 0.6067609, 0.540963, 0.49055457, 0.44934082, 0.4138179, 0.38803425, 0.36802402, 0.35107675, 0.33846107, 0.32842806, 0.3188372, 0.31076866, 0.30316344, 0.29693756, 0.29029602, 0.2853625, 0.28134117, 0.27608585, 0.27091274, 0.26534784, 0.2600441, 0.25486007, 0.24907432]\n"
          ]
        }
      ]
    },
    {
      "cell_type": "markdown",
      "source": [
        "## Nequips"
      ],
      "metadata": {
        "id": "wwo4JPLWoYtN"
      }
    },
    {
      "cell_type": "code",
      "source": [
        "# Exp 26 energy init 5 epoch 30, layers 6, adabelief, \"128x0e + 128x0o + 64x1o + 64x1e + 4x2e + 4x2o\"\n",
        "print(validation_losses)"
      ],
      "metadata": {
        "id": "bA0ALA3rxBr5",
        "outputId": "c93e7643-f90b-480b-c3f7-afbda7167a6e",
        "colab": {
          "base_uri": "https://localhost:8080/"
        }
      },
      "execution_count": 398,
      "outputs": [
        {
          "output_type": "stream",
          "name": "stdout",
          "text": [
            "[3.5610745, 3.0330005, 2.0137188, 1.4103152, 1.0456351, 0.8047677, 0.6249062, 0.49103484, 0.38919336, 0.31261358, 0.2565187, 0.21501887, 0.18431754, 0.1615584, 0.14470914, 0.13233374, 0.122730926, 0.11515798, 0.10913128, 0.1044176, 0.10030582, 0.09679527, 0.09378265, 0.09106367, 0.0887381, 0.086614594, 0.08477261, 0.083142065, 0.08144574, 0.079990074, 0.07853626]\n"
          ]
        }
      ]
    },
    {
      "cell_type": "code",
      "source": [
        "# Exp 25 energy init 5 epoch 30, layers 6, adabelief\n",
        "print(validation_losses)"
      ],
      "metadata": {
        "id": "oTxEiRC6u2i4",
        "outputId": "97ea9dbd-0100-4b63-84db-83a5060c3dc2",
        "colab": {
          "base_uri": "https://localhost:8080/"
        }
      },
      "execution_count": 387,
      "outputs": [
        {
          "output_type": "stream",
          "name": "stdout",
          "text": [
            "[3.539488, 3.5355659, 3.4716945, 3.223594, 2.8223948, 2.4166546, 2.0983384, 1.8620807, 1.6530502, 1.4448441, 1.2385981, 1.0487006, 0.8898276, 0.7654241, 0.6713812, 0.60034335, 0.54452485, 0.50219136, 0.4674957, 0.4393709, 0.41534945, 0.39575523, 0.37776905, 0.36192995, 0.34805426, 0.33638698, 0.325125, 0.3154766, 0.30653122, 0.298482, 0.29096583]\n"
          ]
        }
      ]
    },
    {
      "cell_type": "code",
      "source": [
        "# Exp 24 energy init 5 epoch 30, layers 4, adabelief\n",
        "print(validation_losses)"
      ],
      "metadata": {
        "id": "BOVEMWtktnXv",
        "outputId": "f8b47358-26ea-45d5-f65d-eacacc05ee61",
        "colab": {
          "base_uri": "https://localhost:8080/"
        }
      },
      "execution_count": 367,
      "outputs": [
        {
          "output_type": "stream",
          "name": "stdout",
          "text": [
            "[3.5401738, 3.5181515, 3.3645031, 2.9836965, 2.496063, 2.0024533, 1.5744549, 1.238274, 0.9924168, 0.81989944, 0.69897455, 0.6108565, 0.5427936, 0.48790485, 0.44415283, 0.40799588, 0.37806445, 0.3544403, 0.33446282, 0.3177522, 0.30384955, 0.29254708, 0.28285858, 0.27445215, 0.2663878, 0.2592619, 0.25248715, 0.2467377, 0.24136844, 0.23663281, 0.2318259]\n"
          ]
        }
      ]
    },
    {
      "cell_type": "code",
      "source": [
        "# Exp 23 energy init 5 epoch 30, layers 3, adabelief\n",
        "print(validation_losses)"
      ],
      "metadata": {
        "id": "JsVr1cQhs1P4",
        "outputId": "7df56d5f-8683-461a-c04b-d0b2d8f27a51",
        "colab": {
          "base_uri": "https://localhost:8080/"
        }
      },
      "execution_count": 356,
      "outputs": [
        {
          "output_type": "stream",
          "name": "stdout",
          "text": [
            "[3.4844308, 3.379994, 3.14813, 2.8150694, 2.339618, 1.9349786, 1.6371368, 1.435106, 1.2990162, 1.2060481, 1.13961, 1.0903424, 1.0518003, 1.0212109, 0.9963021, 0.9746725, 0.95607936, 0.93742573, 0.91995096, 0.90388757, 0.888486, 0.87215656, 0.85718775, 0.8421041, 0.82850707, 0.8145321, 0.7999233, 0.7867981, 0.77377313, 0.76083195, 0.74801284]\n"
          ]
        }
      ]
    },
    {
      "cell_type": "code",
      "source": [
        "# Exp 21 energy init 5 epoch 30, layers 2, adabelief\n",
        "print(validation_losses)"
      ],
      "metadata": {
        "id": "B05talLJoRRC",
        "outputId": "670c584d-9572-40f0-8380-bb30f747dca0",
        "colab": {
          "base_uri": "https://localhost:8080/"
        }
      },
      "execution_count": 325,
      "outputs": [
        {
          "output_type": "stream",
          "name": "stdout",
          "text": [
            "[3.5453439, 3.4533005, 3.038686, 2.4424722, 1.9580654, 1.5983707, 1.3379605, 1.14836, 1.0034049, 0.8836373, 0.78591436, 0.7088738, 0.6488323, 0.5984661, 0.555994, 0.5198737, 0.48879352, 0.46279722, 0.4406642, 0.42166883, 0.40555167, 0.3912597, 0.37839314, 0.3669022, 0.3563213, 0.34680256, 0.33815864, 0.32997632, 0.32219484, 0.3149884, 0.3083709]\n"
          ]
        }
      ]
    },
    {
      "cell_type": "markdown",
      "source": [
        "## MACE"
      ],
      "metadata": {
        "id": "pmorrTYwoSp2"
      }
    },
    {
      "cell_type": "code",
      "source": [
        "# Exp 20 energy init 5 epoch 30, correlation 2, channels 16, adabelief\n",
        "print(validation_losses)"
      ],
      "metadata": {
        "id": "1wKkMy55nUgR",
        "outputId": "8d133996-75a9-4803-e8d5-76037060a951",
        "colab": {
          "base_uri": "https://localhost:8080/"
        }
      },
      "execution_count": 307,
      "outputs": [
        {
          "output_type": "stream",
          "name": "stdout",
          "text": [
            "[3.6885893, 2.8304887, 2.0119855, 1.5805957, 1.2874936, 1.0592817, 0.8753791, 0.7288184, 0.6147371, 0.52712953, 0.4577085, 0.40375584, 0.35985398, 0.32505745, 0.29653123, 0.2723486, 0.25241134, 0.23494491, 0.22049902, 0.20796113, 0.19739233, 0.18832205, 0.18034247, 0.17306544, 0.16665196, 0.1608657, 0.15579364, 0.15111685, 0.14674555, 0.14286138, 0.13941006]\n"
          ]
        }
      ]
    },
    {
      "cell_type": "code",
      "source": [
        "# Exp 19 energy init 5 epoch 30, correlation 3, channels 16, adabelief # 0.9696\n",
        "print(validation_losses)"
      ],
      "metadata": {
        "id": "BTzlypOHmOLz",
        "outputId": "9e796473-cce5-487c-f410-2baa24d65144",
        "colab": {
          "base_uri": "https://localhost:8080/"
        }
      },
      "execution_count": 289,
      "outputs": [
        {
          "output_type": "stream",
          "name": "stdout",
          "text": [
            "[3.8841999, 3.1695118, 2.2507865, 1.6871955, 1.3064035, 1.0199968, 0.8079509, 0.6493035, 0.5312875, 0.4430535, 0.37724444, 0.327611, 0.28997493, 0.261393, 0.23948212, 0.22199036, 0.20830335, 0.19712189, 0.18820004, 0.1803968, 0.1742146, 0.16852948, 0.16378446, 0.15937355, 0.15516151, 0.15166059, 0.1482239, 0.14516221, 0.14221095, 0.1393679, 0.13696808]\n"
          ]
        }
      ]
    },
    {
      "cell_type": "code",
      "source": [
        "# Exp 18 energy init 5 epoch 30, correlation 3, channels 12 # .983\n",
        "print(validation_losses)"
      ],
      "metadata": {
        "id": "0PCKEqQ_kIdo",
        "outputId": "f87c37c6-d3b6-4662-a6c1-4f1ddf93ae42",
        "colab": {
          "base_uri": "https://localhost:8080/"
        }
      },
      "execution_count": 271,
      "outputs": [
        {
          "output_type": "stream",
          "name": "stdout",
          "text": [
            "[3.55657, 3.152466, 2.4996822, 2.0148637, 1.670064, 1.4016777, 1.1709443, 0.9708894, 0.80871314, 0.68001586, 0.57812124, 0.49743798, 0.4333736, 0.38380414, 0.34427148, 0.31274012, 0.28762695, 0.2667834, 0.24954769, 0.2350211, 0.22307427, 0.21265112, 0.20379566, 0.19656451, 0.1898705, 0.18399861, 0.1789869, 0.17442194, 0.17014186, 0.16632104, 0.16298506]\n"
          ]
        }
      ]
    },
    {
      "cell_type": "code",
      "source": [
        "# Exp 17 energy init 5 epoch 30, correlation 3, channels 20\n",
        "print(validation_losses)"
      ],
      "metadata": {
        "id": "nhxXyr5Oibag",
        "outputId": "8e8d2682-f7df-4a92-f893-cdce6be0f83d",
        "colab": {
          "base_uri": "https://localhost:8080/"
        }
      },
      "execution_count": 254,
      "outputs": [
        {
          "output_type": "stream",
          "name": "stdout",
          "text": [
            "[3.717876, 3.141255, 2.4851706, 2.0299034, 1.6505405, 1.3343121, 1.070751, 0.8620282, 0.70077217, 0.57653564, 0.48024684, 0.40519524, 0.34490666, 0.29737833, 0.25965685, 0.22996294, 0.20708813, 0.18926454, 0.17518286, 0.16441832, 0.15590443, 0.14896503, 0.14300919, 0.13816473, 0.1339756, 0.13023062, 0.12718388, 0.12443109, 0.122037105, 0.11987586, 0.11776297]\n"
          ]
        }
      ]
    },
    {
      "cell_type": "code",
      "source": [
        "# Exp 16 energy init 5 epoch 30, correlation 3, channels 32 # .987\n",
        "print(validation_losses)"
      ],
      "metadata": {
        "id": "TIbRxqTThgiv",
        "outputId": "e5a09d11-8311-43b2-dc2c-3be9205fe29b",
        "colab": {
          "base_uri": "https://localhost:8080/"
        }
      },
      "execution_count": 236,
      "outputs": [
        {
          "output_type": "stream",
          "name": "stdout",
          "text": [
            "[3.495148, 2.7246048, 1.9343039, 1.4412726, 1.1073657, 0.8814515, 0.71756494, 0.59122896, 0.49114794, 0.41102156, 0.34664568, 0.29569504, 0.25612393, 0.22595172, 0.20259358, 0.18471177, 0.17100377, 0.15990533, 0.15107311, 0.14381555, 0.13807757, 0.13303873, 0.12885709, 0.12497694, 0.12156168, 0.118604265, 0.11583731, 0.113272116, 0.1110877, 0.108955726, 0.107087456]\n"
          ]
        }
      ]
    },
    {
      "cell_type": "code",
      "source": [
        "# Exp 15 energy init 5 epoch 30, correlation 3\n",
        "print(validation_losses)"
      ],
      "metadata": {
        "id": "nC3UpS-qc379",
        "outputId": "cb31649f-5ff6-4923-d3bb-e0393de3a350",
        "colab": {
          "base_uri": "https://localhost:8080/"
        }
      },
      "execution_count": 226,
      "outputs": [
        {
          "output_type": "stream",
          "name": "stdout",
          "text": [
            "[3.8841999, 3.3957994, 2.8068407, 2.1925998, 1.7453314, 1.3967177, 1.1129184, 0.8920036, 0.72115135, 0.59168446, 0.49309668, 0.42015654, 0.36490387, 0.32274336, 0.28985557, 0.26459417, 0.24458858, 0.22864161, 0.21572863, 0.20561872, 0.19697206, 0.18968587, 0.18359375, 0.17839284, 0.17366692, 0.16928945, 0.16562065, 0.1621836, 0.15885814, 0.15603958, 0.15321088]\n"
          ]
        }
      ]
    },
    {
      "cell_type": "code",
      "source": [
        "# Exp 13 energy init 5 epoch 30, correlation 1\n",
        "print(validation_losses)"
      ],
      "metadata": {
        "id": "iXFEMXgiccdO",
        "outputId": "7148209c-6530-447e-feb6-1a78cb5c1f4b",
        "colab": {
          "base_uri": "https://localhost:8080/"
        }
      },
      "execution_count": 216,
      "outputs": [
        {
          "output_type": "stream",
          "name": "stdout",
          "text": [
            "[3.6563241, 3.2108521, 2.5426548, 2.068643, 1.6968304, 1.3814081, 1.1278718, 0.93164736, 0.78244483, 0.668004, 0.58011645, 0.5106935, 0.45655155, 0.41314945, 0.37765154, 0.34898812, 0.32564786, 0.30570555, 0.2886085, 0.2737803, 0.26124763, 0.25019768, 0.24003658, 0.23141429, 0.22316496, 0.21576558, 0.2089694, 0.20261212, 0.19693463, 0.19179656, 0.18688174]\n"
          ]
        }
      ]
    },
    {
      "cell_type": "code",
      "source": [
        "# Exp 12 energy init 5 epoch 30\n",
        "print(validation_losses)"
      ],
      "metadata": {
        "id": "Znu7I2P1Zp7W",
        "outputId": "7654a1f7-4dc1-4680-dd45-7fe3cb8965bf",
        "colab": {
          "base_uri": "https://localhost:8080/"
        }
      },
      "execution_count": 197,
      "outputs": [
        {
          "output_type": "stream",
          "name": "stdout",
          "text": [
            "[3.6885893, 3.1069446, 2.4244494, 1.9370037, 1.5944626, 1.3233987, 1.1025095, 0.9226009, 0.77859885, 0.6639381, 0.5740513, 0.50330013, 0.44745997, 0.4028847, 0.36678535, 0.3369668, 0.31172615, 0.2904706, 0.27226543, 0.2563729, 0.2423781, 0.230147, 0.21929951, 0.20960926, 0.2011709, 0.19347008, 0.18671437, 0.18044068, 0.17483722, 0.16978073, 0.16532467]\n"
          ]
        }
      ]
    },
    {
      "cell_type": "code",
      "source": [
        "# Exp 11 energy init 3\n",
        "print(validation_losses)"
      ],
      "metadata": {
        "id": "Vdlnf9olY2ZO",
        "outputId": "04b47a6f-0d06-4148-e9e0-6dac63136580",
        "colab": {
          "base_uri": "https://localhost:8080/"
        }
      },
      "execution_count": 186,
      "outputs": [
        {
          "output_type": "stream",
          "name": "stdout",
          "text": [
            "[3.6564946, 3.0583856, 2.3878415, 1.9138813, 1.576134, 1.3045127, 1.0762422, 0.89454794, 0.7491289, 0.63677126, 0.5491627, 0.48122045, 0.42854944, 0.38600376, 0.3517765, 0.32424656]\n"
          ]
        }
      ]
    },
    {
      "cell_type": "code",
      "source": [
        "# Exp 11 energy init 2\n",
        "print(validation_losses)"
      ],
      "metadata": {
        "id": "NjdvENYzYZxu",
        "outputId": "c049d15d-2e0d-4f9a-9e66-4e830a7d0fcb",
        "colab": {
          "base_uri": "https://localhost:8080/"
        }
      },
      "execution_count": 176,
      "outputs": [
        {
          "output_type": "stream",
          "name": "stdout",
          "text": [
            "[3.6404474, 3.0432105, 2.3858073, 1.9165725, 1.5751997, 1.2974433, 1.072256, 0.89117515, 0.7481255, 0.63544214, 0.5500906, 0.48322287, 0.4311696, 0.3903008, 0.35719568, 0.3307471]\n"
          ]
        }
      ]
    },
    {
      "cell_type": "code",
      "source": [
        "# Exp 10 energy init 5\n",
        "print(validation_losses)"
      ],
      "metadata": {
        "id": "1B9M9E5NX5fe",
        "outputId": "50e411c9-103b-4706-958a-36d40c5b18db",
        "colab": {
          "base_uri": "https://localhost:8080/"
        }
      },
      "execution_count": 166,
      "outputs": [
        {
          "output_type": "stream",
          "name": "stdout",
          "text": [
            "[3.6885893, 3.1104362, 2.4300175, 1.9387035, 1.5928434, 1.3158538, 1.0900992, 0.90527433, 0.7581834, 0.6433968, 0.55455625, 0.48446256, 0.42999986, 0.3864972, 0.35110837, 0.32324773]\n"
          ]
        }
      ]
    },
    {
      "cell_type": "code",
      "source": [
        "# Exp 9 energy init 10\n",
        "print(validation_losses)"
      ],
      "metadata": {
        "id": "MUWuGyseXBBu",
        "outputId": "d4646fff-2225-4727-b370-b84272cb2402",
        "colab": {
          "base_uri": "https://localhost:8080/"
        }
      },
      "execution_count": 155,
      "outputs": [
        {
          "output_type": "stream",
          "name": "stdout",
          "text": [
            "[3.7688267, 3.17016, 2.4713116, 1.9677588, 1.6046503, 1.3156551, 1.0849099, 0.903748, 0.76080894, 0.650098, 0.5630887, 0.49494457, 0.44146463, 0.3989763, 0.3650627, 0.33710667]\n"
          ]
        }
      ]
    },
    {
      "cell_type": "code",
      "source": [
        "# Exp 7 energy init 30\n",
        "print(validation_losses)"
      ],
      "metadata": {
        "id": "bLO-i7EFWmU1",
        "outputId": "11308c01-205f-45d0-baa9-3d6e6b3cf783",
        "colab": {
          "base_uri": "https://localhost:8080/"
        }
      },
      "execution_count": 135,
      "outputs": [
        {
          "output_type": "stream",
          "name": "stdout",
          "text": [
            "[4.0897746, 3.4141653, 2.6608052, 2.115803, 1.7267538, 1.4223077, 1.1807585, 0.9861651, 0.83502924, 0.71446675, 0.620071, 0.5462478, 0.4878461, 0.4406369, 0.4022049, 0.37146834]\n"
          ]
        }
      ]
    },
    {
      "cell_type": "code",
      "source": [
        "# Exp 6 energy init 50\n",
        "print(validation_losses)"
      ],
      "metadata": {
        "id": "0WytZqYdWGfI",
        "outputId": "89ec0d78-96b4-48ed-9227-e4e368b5691a",
        "colab": {
          "base_uri": "https://localhost:8080/"
        }
      },
      "execution_count": 125,
      "outputs": [
        {
          "output_type": "stream",
          "name": "stdout",
          "text": [
            "[4.4107223, 3.6611793, 2.8702507, 2.283083, 1.866381, 1.5380751, 1.274491, 1.0635407, 0.89867914, 0.7685873, 0.66789526, 0.59030205, 0.52852696, 0.47941378, 0.4393943, 0.4072066]\n"
          ]
        }
      ]
    },
    {
      "cell_type": "code",
      "source": [
        "# Exp 5 15 epochs\n",
        "print(validation_losses)"
      ],
      "metadata": {
        "id": "-DR1hnA_VkrA",
        "outputId": "6f65233b-9547-4e6e-d70d-098280082126",
        "colab": {
          "base_uri": "https://localhost:8080/"
        }
      },
      "execution_count": 114,
      "outputs": [
        {
          "output_type": "stream",
          "name": "stdout",
          "text": [
            "[4.009537, 3.3543704, 2.612539, 2.0785894, 1.6930044, 1.3810662, 1.1343, 0.9416154, 0.78953564, 0.6734385, 0.5831231, 0.51407474, 0.45988497, 0.4171469, 0.38194776, 0.35433975]\n"
          ]
        }
      ]
    },
    {
      "cell_type": "code",
      "execution_count": 23,
      "metadata": {
        "colab": {
          "base_uri": "https://localhost:8080/"
        },
        "id": "nxi-fYGglU17",
        "outputId": "7474f092-a9ec-4bbf-ff4e-0349294d840c"
      },
      "outputs": [
        {
          "output_type": "stream",
          "name": "stdout",
          "text": [
            "[90.22487, 74.64657, 57.223053, 45.379948, 37.17013, 30.787992, 25.791973, 21.803926, 18.63317, 16.118017, 14.155289]\n"
          ]
        }
      ],
      "source": [
        "# Exp 1 4.\n",
        "print(validation_losses)"
      ]
    },
    {
      "cell_type": "code",
      "source": [
        "# Exp 2 0.98\n",
        "print(validation_losses)"
      ],
      "metadata": {
        "id": "LEkz-mxELjXD",
        "outputId": "61494b39-ff3d-45fe-b570-bfa7e90a9ba7",
        "colab": {
          "base_uri": "https://localhost:8080/"
        }
      },
      "execution_count": 45,
      "outputs": [
        {
          "output_type": "stream",
          "name": "stdout",
          "text": [
            "[4.009537, 3.370691, 2.6378033, 2.0971577, 1.7099038, 1.400268, 1.1529847, 0.955382, 0.803714, 0.6851116, 0.59330636]\n"
          ]
        }
      ]
    },
    {
      "cell_type": "code",
      "source": [
        "# Exp 3 200:25 200: 0.01 - discarded\n",
        "print(validation_losses)"
      ],
      "metadata": {
        "id": "lorSHaprRZlr",
        "outputId": "c136290a-d4cf-491d-80cb-9650f770df70",
        "colab": {
          "base_uri": "https://localhost:8080/"
        }
      },
      "execution_count": 63,
      "outputs": [
        {
          "output_type": "stream",
          "name": "stdout",
          "text": [
            "[4.009537, 3.3474097, 2.6076524, 2.073822, 1.695558, 1.395133, 1.1541386, 0.9592072, 0.8072168, 0.6889268, 0.5960556]\n"
          ]
        }
      ]
    },
    {
      "cell_type": "code",
      "source": [
        "# Exp 4 50 epochs\n",
        "print(validation_losses)"
      ],
      "metadata": {
        "id": "sf4QvpsjUe9a",
        "outputId": "1d335673-fd9b-4035-f678-e0f9b000347a",
        "colab": {
          "base_uri": "https://localhost:8080/"
        }
      },
      "execution_count": 95,
      "outputs": [
        {
          "output_type": "stream",
          "name": "stdout",
          "text": [
            "[4.009537, 3.3501775, 2.6070426, 2.0682826, 1.6855272, 1.383041, 1.1405942, 0.9466595, 0.7960901, 0.67823523, 0.58645993, 0.51543325, 0.4595552, 0.4148145, 0.3794351, 0.35005337, 0.32581758, 0.30501857, 0.28768912, 0.27257934, 0.25920984, 0.24728957, 0.23666549, 0.22706401, 0.21864852, 0.2111297, 0.20414314, 0.19764511, 0.19174205, 0.18616281, 0.18105946, 0.17638944, 0.17192665, 0.16804956, 0.16450703, 0.16121437, 0.15807351, 0.15504165, 0.15218078, 0.14953533, 0.14701906, 0.14488232, 0.14266874, 0.14057185, 0.13832614, 0.13640633, 0.13461033, 0.13272971, 0.131079, 0.12960391, 0.12801833]\n"
          ]
        }
      ]
    },
    {
      "cell_type": "markdown",
      "metadata": {
        "id": "dmIME-wylU17"
      },
      "source": [
        "Let's create a training curve from these values."
      ]
    },
    {
      "cell_type": "code",
      "source": [
        "epoch_nums = list(range(len(validation_losses))) # [1, 2, ..10]\n",
        "plt.plot(epoch_nums, validation_losses)\n",
        "plt.xlabel(\"Epoch\")\n",
        "plt.ylabel(\"Validation loss\")\n",
        "# plt.xticks(epoch_nums)\n",
        "plt.show()"
      ],
      "metadata": {
        "id": "Qpf1FoTiSkS_",
        "outputId": "1ee1ff72-2ea5-4116-a0f8-302c5fa5a58e",
        "colab": {
          "base_uri": "https://localhost:8080/",
          "height": 449
        }
      },
      "execution_count": 418,
      "outputs": [
        {
          "output_type": "display_data",
          "data": {
            "text/plain": [
              "<Figure size 640x480 with 1 Axes>"
            ],
            "image/png": "[encoded data removed]"
          },
          "metadata": {}
        }
      ]
    },
    {
      "cell_type": "markdown",
      "metadata": {
        "id": "gRPpV0CBlU1-"
      },
      "source": [
        "**Recovering the best validation model**:\n",
        "\n",
        "After training has completed, the [`TrainingLoop`](https://instadeepai.github.io/mlip/api_reference/training/training_loop.html) holds all the relevant information about the run. We can obtain the force field with the best validation parameters as follows:"
      ]
    },
    {
      "cell_type": "code",
      "execution_count": 449,
      "metadata": {
        "id": "CSrWZFsZlU1_"
      },
      "outputs": [],
      "source": [
        "best_force_field = training_loop.best_model"
      ]
    },
    {
      "cell_type": "markdown",
      "metadata": {
        "id": "FWeaguhglU1_"
      },
      "source": [
        "This force field object can now be applied in, for example, MD simulations or energy minimizations.\n",
        "\n",
        "Furthermore, these checkpoints can of course also be **used to restart a training from a given checkpoint**. We refer to the [documentation of the I/O handler's config](https://instadeepai.github.io/mlip/api_reference/training/training_io_handling.html#mlip.training.training_io_handler.TrainingIOHandlerConfig) for more information on this.\n",
        "\n",
        "**Saving the model to a zip file**:\n",
        "\n",
        "We can also save the trained model in zip format. This is also the format that we provide our pre-trained models in."
      ]
    },
    {
      "cell_type": "code",
      "execution_count": 450,
      "metadata": {
        "id": "Euv-3G-mlU1_"
      },
      "outputs": [],
      "source": [
        "save_model_to_zip(f\"training/{exp}_my_final_model.zip\", best_force_field)"
      ]
    },
    {
      "cell_type": "markdown",
      "metadata": {
        "id": "uMlcfZUalU1_"
      },
      "source": [
        "**Loading a pre-trained model**\n",
        "\n",
        "We can also load a pre-trained model from a zip file. This is useful if you want to use a pre-trained model for inference or fine-tuning on a different dataset."
      ]
    },
    {
      "cell_type": "code",
      "execution_count": 451,
      "metadata": {
        "colab": {
          "base_uri": "https://localhost:8080/"
        },
        "id": "2lZ0VpBPlU1_",
        "outputId": "f933d701-44a9-47ab-cd38-8e196e2471b6"
      },
      "outputs": [
        {
          "output_type": "stream",
          "name": "stdout",
          "text": [
            "Dataset info: Atomic Energies: {'H': -723.2941604798493, 'C': -723.2941604798525, 'N': -120.54902674664157, 'O': -60.27451337332064}, Avg. num. neighbors: 16.72, Avg. r_min: 1.00, Graph cutoff distance: 5.0\n"
          ]
        }
      ],
      "source": [
        "best_force_field = load_model_from_zip(Visnet, f\"training/{exp}_my_final_model.zip\")\n",
        "\n",
        "print(\"Dataset info:\", best_force_field.dataset_info)"
      ]
    },
    {
      "cell_type": "markdown",
      "metadata": {
        "id": "2ZZeNap6lU1_"
      },
      "source": [
        "## Evaluation"
      ]
    },
    {
      "cell_type": "markdown",
      "metadata": {
        "id": "U14qTi5slU1_"
      },
      "source": [
        "The model will be tested on its ability to predict the energies of new conformations\n",
        "of the same molecule. However, to test the generalization\n",
        "capabilities of the model, these conformations are sampled at higher temperature,\n",
        "i.e., 1200 Kelvin. The test conformations are located in the\n",
        "`test_public.xyz` file. You can predict energies for them with a model saved in the\n",
        "zip format with the mlip library's batched inference functionality, described\n",
        "[here](https://instadeepai.github.io/mlip/user_guide/simulations.html#batched-inference)\n",
        "in the mlip documentation or explained in section 2 of\n",
        "[mlip's simulation tutorial](https://github.com/instadeepai/mlip/blob/main/tutorials/simulation_tutorial.ipynb).\n",
        "The public leaderboard contains the target energies. The metric the predictions will be scored on is root-mean-square error (RMSE).\n",
        "\n",
        "\n",
        "**Hint**: to get the best energies, you want to put higher weights on energies during training which is not the case in the default settings, where forces are more highly weighted.\n"
      ]
    },
    {
      "cell_type": "code",
      "execution_count": 452,
      "metadata": {
        "id": "dpslpHjC2r0Z"
      },
      "outputs": [],
      "source": [
        "from ase.io import read as ase_read\n",
        "\n",
        "test_data = \"data/test_public.xyz\"\n",
        "structures = ase_read(test_data, index=\":\")"
      ]
    },
    {
      "cell_type": "markdown",
      "metadata": {
        "id": "EPbZlFAflU1_"
      },
      "source": [
        "We can now run inference with a single pre-built function, note Jax starts by compiling all the required functions. It may appear slow at the beginning but this provides significant acceleration at scales (compilation is saved in the notebook kernel, so if you want an illustration of the speed gains, you can run the cell twice):"
      ]
    },
    {
      "cell_type": "code",
      "execution_count": 453,
      "metadata": {
        "colab": {
          "base_uri": "https://localhost:8080/"
        },
        "id": "p2ZMvIJllU1_",
        "outputId": "65c3aec0-d5e2-4452-9291-b950501557ca"
      },
      "outputs": [
        {
          "output_type": "stream",
          "name": "stderr",
          "text": [
            "INFO - Graphs preparation done. Now running inference on 200 structure(s) in 26 batches...\n",
            "INFO - Batch 1 completed.\n",
            "INFO - Batch 2 completed.\n",
            "INFO - Batch 3 completed.\n",
            "INFO - Batch 4 completed.\n",
            "INFO - Batch 5 completed.\n",
            "INFO - Batch 6 completed.\n",
            "INFO - Batch 7 completed.\n",
            "INFO - Batch 8 completed.\n",
            "INFO - Batch 9 completed.\n",
            "INFO - Batch 10 completed.\n",
            "INFO - Batch 11 completed.\n",
            "INFO - Batch 12 completed.\n",
            "INFO - Batch 13 completed.\n",
            "INFO - Batch 14 completed.\n",
            "INFO - Batch 15 completed.\n",
            "INFO - Batch 16 completed.\n",
            "INFO - Batch 17 completed.\n",
            "INFO - Batch 18 completed.\n",
            "INFO - Batch 19 completed.\n",
            "INFO - Batch 20 completed.\n",
            "INFO - Batch 21 completed.\n",
            "INFO - Batch 22 completed.\n",
            "INFO - Batch 23 completed.\n",
            "INFO - Batch 24 completed.\n",
            "INFO - Batch 25 completed.\n",
            "INFO - Batch 26 completed.\n"
          ]
        }
      ],
      "source": [
        "from mlip.inference import run_batched_inference\n",
        "\n",
        "predictions = run_batched_inference(structures, best_force_field, batch_size=8)"
      ]
    },
    {
      "cell_type": "markdown",
      "metadata": {
        "id": "PtxCDi26lU1_"
      },
      "source": [
        "# Get your output into submission format\n",
        "\n",
        "We need to get our outputs into their \"camera-ready\" form."
      ]
    },
    {
      "cell_type": "code",
      "execution_count": 454,
      "metadata": {
        "colab": {
          "base_uri": "https://localhost:8080/",
          "height": 423
        },
        "id": "wGNFfcb5lU1_",
        "outputId": "98f1f3fc-98db-4596-845f-0e3865329eda"
      },
      "outputs": [
        {
          "output_type": "execute_result",
          "data": {
            "text/plain": [
              "      ID      energies\n",
              "0      0 -17657.136719\n",
              "1      1 -17657.664062\n",
              "2      2 -17658.384766\n",
              "3      3 -17658.548828\n",
              "4      4 -17657.355469\n",
              "..   ...           ...\n",
              "195  195 -17658.435547\n",
              "196  196 -17658.283203\n",
              "197  197 -17657.562500\n",
              "198  198 -17657.568359\n",
              "199  199 -17656.625000\n",
              "\n",
              "[200 rows x 2 columns]"
            ],
            "text/html": [
              "\n",
              "  <div id=\"df-06c6f3ef-a0f4-49a6-a91d-d863e50524cb\" class=\"colab-df-container\">\n",
              "    <div>\n",
              "<style scoped>\n",
              "    .dataframe tbody tr th:only-of-type {\n",
              "        vertical-align: middle;\n",
              "    }\n",
              "\n",
              "    .dataframe tbody tr th {\n",
              "        vertical-align: top;\n",
              "    }\n",
              "\n",
              "    .dataframe thead th {\n",
              "        text-align: right;\n",
              "    }\n",
              "</style>\n",
              "<table border=\"1\" class=\"dataframe\">\n",
              "  <thead>\n",
              "    <tr style=\"text-align: right;\">\n",
              "      <th></th>\n",
              "      <th>ID</th>\n",
              "      <th>energies</th>\n",
              "    </tr>\n",
              "  </thead>\n",
              "  <tbody>\n",
              "    <tr>\n",
              "      <th>0</th>\n",
              "      <td>0</td>\n",
              "      <td>-17657.136719</td>\n",
              "    </tr>\n",
              "    <tr>\n",
              "      <th>1</th>\n",
              "      <td>1</td>\n",
              "      <td>-17657.664062</td>\n",
              "    </tr>\n",
              "    <tr>\n",
              "      <th>2</th>\n",
              "      <td>2</td>\n",
              "      <td>-17658.384766</td>\n",
              "    </tr>\n",
              "    <tr>\n",
              "      <th>3</th>\n",
              "      <td>3</td>\n",
              "      <td>-17658.548828</td>\n",
              "    </tr>\n",
              "    <tr>\n",
              "      <th>4</th>\n",
              "      <td>4</td>\n",
              "      <td>-17657.355469</td>\n",
              "    </tr>\n",
              "    <tr>\n",
              "      <th>...</th>\n",
              "      <td>...</td>\n",
              "      <td>...</td>\n",
              "    </tr>\n",
              "    <tr>\n",
              "      <th>195</th>\n",
              "      <td>195</td>\n",
              "      <td>-17658.435547</td>\n",
              "    </tr>\n",
              "    <tr>\n",
              "      <th>196</th>\n",
              "      <td>196</td>\n",
              "      <td>-17658.283203</td>\n",
              "    </tr>\n",
              "    <tr>\n",
              "      <th>197</th>\n",
              "      <td>197</td>\n",
              "      <td>-17657.562500</td>\n",
              "    </tr>\n",
              "    <tr>\n",
              "      <th>198</th>\n",
              "      <td>198</td>\n",
              "      <td>-17657.568359</td>\n",
              "    </tr>\n",
              "    <tr>\n",
              "      <th>199</th>\n",
              "      <td>199</td>\n",
              "      <td>-17656.625000</td>\n",
              "    </tr>\n",
              "  </tbody>\n",
              "</table>\n",
              "<p>200 rows × 2 columns</p>\n",
              "</div>\n",
              "    <div class=\"colab-df-buttons\">\n",
              "\n",
              "  <div class=\"colab-df-container\">\n",
              "    <button class=\"colab-df-convert\" onclick=\"convertToInteractive('df-06c6f3ef-a0f4-49a6-a91d-d863e50524cb')\"\n",
              "            title=\"Convert this dataframe to an interactive table.\"\n",
              "            style=\"display:none;\">\n",
              "\n",
              "  <svg xmlns=\"http://www.w3.org/2000/svg\" height=\"24px\" viewBox=\"0 -960 960 960\">\n",
              "    <path d=\"M120-120v-720h720v720H120Zm60-500h600v-160H180v160Zm220 220h160v-160H400v160Zm0 220h160v-160H400v160ZM180-400h160v-160H180v160Zm440 0h160v-160H620v160ZM180-180h160v-160H180v160Zm440 0h160v-160H620v160Z\"/>\n",
              "  </svg>\n",
              "    </button>\n",
              "\n",
              "  <style>\n",
              "    .colab-df-container {\n",
              "      display:flex;\n",
              "      gap: 12px;\n",
              "    }\n",
              "\n",
              "    .colab-df-convert {\n",
              "      background-color: #E8F0FE;\n",
              "      border: none;\n",
              "      border-radius: 50%;\n",
              "      cursor: pointer;\n",
              "      display: none;\n",
              "      fill: #1967D2;\n",
              "      height: 32px;\n",
              "      padding: 0 0 0 0;\n",
              "      width: 32px;\n",
              "    }\n",
              "\n",
              "    .colab-df-convert:hover {\n",
              "      background-color: #E2EBFA;\n",
              "      box-shadow: 0px 1px 2px rgba(60, 64, 67, 0.3), 0px 1px 3px 1px rgba(60, 64, 67, 0.15);\n",
              "      fill: #174EA6;\n",
              "    }\n",
              "\n",
              "    .colab-df-buttons div {\n",
              "      margin-bottom: 4px;\n",
              "    }\n",
              "\n",
              "    [theme=dark] .colab-df-convert {\n",
              "      background-color: #3B4455;\n",
              "      fill: #D2E3FC;\n",
              "    }\n",
              "\n",
              "    [theme=dark] .colab-df-convert:hover {\n",
              "      background-color: #434B5C;\n",
              "      box-shadow: 0px 1px 3px 1px rgba(0, 0, 0, 0.15);\n",
              "      filter: drop-shadow(0px 1px 2px rgba(0, 0, 0, 0.3));\n",
              "      fill: #FFFFFF;\n",
              "    }\n",
              "  </style>\n",
              "\n",
              "    <script>\n",
              "      const buttonEl =\n",
              "        document.querySelector('#df-06c6f3ef-a0f4-49a6-a91d-d863e50524cb button.colab-df-convert');\n",
              "      buttonEl.style.display =\n",
              "        google.colab.kernel.accessAllowed ? 'block' : 'none';\n",
              "\n",
              "      async function convertToInteractive(key) {\n",
              "        const element = document.querySelector('#df-06c6f3ef-a0f4-49a6-a91d-d863e50524cb');\n",
              "        const dataTable =\n",
              "          await google.colab.kernel.invokeFunction('convertToInteractive',\n",
              "                                                    [key], {});\n",
              "        if (!dataTable) return;\n",
              "\n",
              "        const docLinkHtml = 'Like what you see? Visit the ' +\n",
              "          '<a target=\"_blank\" href=https://colab.research.google.com/notebooks/data_table.ipynb>data table notebook</a>'\n",
              "          + ' to learn more about interactive tables.';\n",
              "        element.innerHTML = '';\n",
              "        dataTable['output_type'] = 'display_data';\n",
              "        await google.colab.output.renderOutput(dataTable, element);\n",
              "        const docLink = document.createElement('div');\n",
              "        docLink.innerHTML = docLinkHtml;\n",
              "        element.appendChild(docLink);\n",
              "      }\n",
              "    </script>\n",
              "  </div>\n",
              "\n",
              "\n",
              "    <div id=\"df-5753ec73-0c73-426e-a472-2a1de8e4e913\">\n",
              "      <button class=\"colab-df-quickchart\" onclick=\"quickchart('df-5753ec73-0c73-426e-a472-2a1de8e4e913')\"\n",
              "                title=\"Suggest charts\"\n",
              "                style=\"display:none;\">\n",
              "\n",
              "<svg xmlns=\"http://www.w3.org/2000/svg\" height=\"24px\"viewBox=\"0 0 24 24\"\n",
              "     width=\"24px\">\n",
              "    <g>\n",
              "        <path d=\"M19 3H5c-1.1 0-2 .9-2 2v14c0 1.1.9 2 2 2h14c1.1 0 2-.9 2-2V5c0-1.1-.9-2-2-2zM9 17H7v-7h2v7zm4 0h-2V7h2v10zm4 0h-2v-4h2v4z\"/>\n",
              "    </g>\n",
              "</svg>\n",
              "      </button>\n",
              "\n",
              "<style>\n",
              "  .colab-df-quickchart {\n",
              "      --bg-color: #E8F0FE;\n",
              "      --fill-color: #1967D2;\n",
              "      --hover-bg-color: #E2EBFA;\n",
              "      --hover-fill-color: #174EA6;\n",
              "      --disabled-fill-color: #AAA;\n",
              "      --disabled-bg-color: #DDD;\n",
              "  }\n",
              "\n",
              "  [theme=dark] .colab-df-quickchart {\n",
              "      --bg-color: #3B4455;\n",
              "      --fill-color: #D2E3FC;\n",
              "      --hover-bg-color: #434B5C;\n",
              "      --hover-fill-color: #FFFFFF;\n",
              "      --disabled-bg-color: #3B4455;\n",
              "      --disabled-fill-color: #666;\n",
              "  }\n",
              "\n",
              "  .colab-df-quickchart {\n",
              "    background-color: var(--bg-color);\n",
              "    border: none;\n",
              "    border-radius: 50%;\n",
              "    cursor: pointer;\n",
              "    display: none;\n",
              "    fill: var(--fill-color);\n",
              "    height: 32px;\n",
              "    padding: 0;\n",
              "    width: 32px;\n",
              "  }\n",
              "\n",
              "  .colab-df-quickchart:hover {\n",
              "    background-color: var(--hover-bg-color);\n",
              "    box-shadow: 0 1px 2px rgba(60, 64, 67, 0.3), 0 1px 3px 1px rgba(60, 64, 67, 0.15);\n",
              "    fill: var(--button-hover-fill-color);\n",
              "  }\n",
              "\n",
              "  .colab-df-quickchart-complete:disabled,\n",
              "  .colab-df-quickchart-complete:disabled:hover {\n",
              "    background-color: var(--disabled-bg-color);\n",
              "    fill: var(--disabled-fill-color);\n",
              "    box-shadow: none;\n",
              "  }\n",
              "\n",
              "  .colab-df-spinner {\n",
              "    border: 2px solid var(--fill-color);\n",
              "    border-color: transparent;\n",
              "    border-bottom-color: var(--fill-color);\n",
              "    animation:\n",
              "      spin 1s steps(1) infinite;\n",
              "  }\n",
              "\n",
              "  @keyframes spin {\n",
              "    0% {\n",
              "      border-color: transparent;\n",
              "      border-bottom-color: var(--fill-color);\n",
              "      border-left-color: var(--fill-color);\n",
              "    }\n",
              "    20% {\n",
              "      border-color: transparent;\n",
              "      border-left-color: var(--fill-color);\n",
              "      border-top-color: var(--fill-color);\n",
              "    }\n",
              "    30% {\n",
              "      border-color: transparent;\n",
              "      border-left-color: var(--fill-color);\n",
              "      border-top-color: var(--fill-color);\n",
              "      border-right-color: var(--fill-color);\n",
              "    }\n",
              "    40% {\n",
              "      border-color: transparent;\n",
              "      border-right-color: var(--fill-color);\n",
              "      border-top-color: var(--fill-color);\n",
              "    }\n",
              "    60% {\n",
              "      border-color: transparent;\n",
              "      border-right-color: var(--fill-color);\n",
              "    }\n",
              "    80% {\n",
              "      border-color: transparent;\n",
              "      border-right-color: var(--fill-color);\n",
              "      border-bottom-color: var(--fill-color);\n",
              "    }\n",
              "    90% {\n",
              "      border-color: transparent;\n",
              "      border-bottom-color: var(--fill-color);\n",
              "    }\n",
              "  }\n",
              "</style>\n",
              "\n",
              "      <script>\n",
              "        async function quickchart(key) {\n",
              "          const quickchartButtonEl =\n",
              "            document.querySelector('#' + key + ' button');\n",
              "          quickchartButtonEl.disabled = true;  // To prevent multiple clicks.\n",
              "          quickchartButtonEl.classList.add('colab-df-spinner');\n",
              "          try {\n",
              "            const charts = await google.colab.kernel.invokeFunction(\n",
              "                'suggestCharts', [key], {});\n",
              "          } catch (error) {\n",
              "            console.error('Error during call to suggestCharts:', error);\n",
              "          }\n",
              "          quickchartButtonEl.classList.remove('colab-df-spinner');\n",
              "          quickchartButtonEl.classList.add('colab-df-quickchart-complete');\n",
              "        }\n",
              "        (() => {\n",
              "          let quickchartButtonEl =\n",
              "            document.querySelector('#df-5753ec73-0c73-426e-a472-2a1de8e4e913 button');\n",
              "          quickchartButtonEl.style.display =\n",
              "            google.colab.kernel.accessAllowed ? 'block' : 'none';\n",
              "        })();\n",
              "      </script>\n",
              "    </div>\n",
              "\n",
              "  <div id=\"id_33bb64e9-aa79-4e55-a454-5bfbaae46bf6\">\n",
              "    <style>\n",
              "      .colab-df-generate {\n",
              "        background-color: #E8F0FE;\n",
              "        border: none;\n",
              "        border-radius: 50%;\n",
              "        cursor: pointer;\n",
              "        display: none;\n",
              "        fill: #1967D2;\n",
              "        height: 32px;\n",
              "        padding: 0 0 0 0;\n",
              "        width: 32px;\n",
              "      }\n",
              "\n",
              "      .colab-df-generate:hover {\n",
              "        background-color: #E2EBFA;\n",
              "        box-shadow: 0px 1px 2px rgba(60, 64, 67, 0.3), 0px 1px 3px 1px rgba(60, 64, 67, 0.15);\n",
              "        fill: #174EA6;\n",
              "      }\n",
              "\n",
              "      [theme=dark] .colab-df-generate {\n",
              "        background-color: #3B4455;\n",
              "        fill: #D2E3FC;\n",
              "      }\n",
              "\n",
              "      [theme=dark] .colab-df-generate:hover {\n",
              "        background-color: #434B5C;\n",
              "        box-shadow: 0px 1px 3px 1px rgba(0, 0, 0, 0.15);\n",
              "        filter: drop-shadow(0px 1px 2px rgba(0, 0, 0, 0.3));\n",
              "        fill: #FFFFFF;\n",
              "      }\n",
              "    </style>\n",
              "    <button class=\"colab-df-generate\" onclick=\"generateWithVariable('df')\"\n",
              "            title=\"Generate code using this dataframe.\"\n",
              "            style=\"display:none;\">\n",
              "\n",
              "  <svg xmlns=\"http://www.w3.org/2000/svg\" height=\"24px\"viewBox=\"0 0 24 24\"\n",
              "       width=\"24px\">\n",
              "    <path d=\"M7,19H8.4L18.45,9,17,7.55,7,17.6ZM5,21V16.75L18.45,3.32a2,2,0,0,1,2.83,0l1.4,1.43a1.91,1.91,0,0,1,.58,1.4,1.91,1.91,0,0,1-.58,1.4L9.25,21ZM18.45,9,17,7.55Zm-12,3A5.31,5.31,0,0,0,4.9,8.1,5.31,5.31,0,0,0,1,6.5,5.31,5.31,0,0,0,4.9,4.9,5.31,5.31,0,0,0,6.5,1,5.31,5.31,0,0,0,8.1,4.9,5.31,5.31,0,0,0,12,6.5,5.46,5.46,0,0,0,6.5,12Z\"/>\n",
              "  </svg>\n",
              "    </button>\n",
              "    <script>\n",
              "      (() => {\n",
              "      const buttonEl =\n",
              "        document.querySelector('#id_33bb64e9-aa79-4e55-a454-5bfbaae46bf6 button.colab-df-generate');\n",
              "      buttonEl.style.display =\n",
              "        google.colab.kernel.accessAllowed ? 'block' : 'none';\n",
              "\n",
              "      buttonEl.onclick = () => {\n",
              "        google.colab.notebook.generateWithVariable('df');\n",
              "      }\n",
              "      })();\n",
              "    </script>\n",
              "  </div>\n",
              "\n",
              "    </div>\n",
              "  </div>\n"
            ],
            "application/vnd.google.colaboratory.intrinsic+json": {
              "type": "dataframe",
              "variable_name": "df",
              "summary": "{\n  \"name\": \"df\",\n  \"rows\": 200,\n  \"fields\": [\n    {\n      \"column\": \"ID\",\n      \"properties\": {\n        \"dtype\": \"number\",\n        \"std\": 57,\n        \"min\": 0,\n        \"max\": 199,\n        \"num_unique_values\": 200,\n        \"samples\": [\n          95,\n          15,\n          30\n        ],\n        \"semantic_type\": \"\",\n        \"description\": \"\"\n      }\n    },\n    {\n      \"column\": \"energies\",\n      \"properties\": {\n        \"dtype\": \"number\",\n        \"std\": 0.6456812644374985,\n        \"min\": -17659.00390625,\n        \"max\": -17655.5,\n        \"num_unique_values\": 176,\n        \"samples\": [\n          -17657.384765625,\n          -17657.916015625,\n          -17657.298828125\n        ],\n        \"semantic_type\": \"\",\n        \"description\": \"\"\n      }\n    }\n  ]\n}"
            }
          },
          "metadata": {},
          "execution_count": 454
        }
      ],
      "source": [
        "energies = np.array([prediction.energy for prediction in predictions])\n",
        "\n",
        "# Create DataFrame\n",
        "df = pd.DataFrame({\n",
        "    'ID': np.arange(len(energies)),\n",
        "    'energies': energies\n",
        "})\n",
        "\n",
        "df"
      ]
    },
    {
      "cell_type": "code",
      "execution_count": 455,
      "metadata": {
        "colab": {
          "base_uri": "https://localhost:8080/"
        },
        "id": "7WPAFZnalU1_",
        "outputId": "06430c29-a26a-4084-a798-9b6a628e6691"
      },
      "outputs": [
        {
          "output_type": "stream",
          "name": "stdout",
          "text": [
            "Saved submission to Overfit_submission.csv\n"
          ]
        }
      ],
      "source": [
        "your_name = \"Overfit\"\n",
        "filename = f\"{your_name}_submission.csv\"\n",
        "df.to_csv(filename, index=False)\n",
        "print(f\"Saved submission to {filename}\")"
      ]
    },
    {
      "cell_type": "markdown",
      "metadata": {
        "id": "gjzhxTNu7aYZ"
      },
      "source": [
        "Submit your solution by uploading the CSV file to the [Zindi competition page](https://zindi.africa/competitions/indabax-south-africa-2025-hackathon-with-instadeep)."
      ]
    }
  ],
  "metadata": {
    "accelerator": "GPU",
    "colab": {
      "gpuType": "T4",
      "provenance": []
    },
    "kernelspec": {
      "display_name": "Python 3",
      "name": "python3"
    },
    "language_info": {
      "codemirror_mode": {
        "name": "ipython",
        "version": 3
      },
      "file_extension": ".py",
      "mimetype": "text/x-python",
      "name": "python",
      "nbconvert_exporter": "python",
      "pygments_lexer": "ipython3",
      "version": "3.10.17"
    },
    "widgets": {
      "application/vnd.jupyter.widget-state+json": {
        "bfaa9aaa27964f43bae0af8b931dce12": {
          "model_module": "@jupyter-widgets/controls",
          "model_name": "HBoxModel",
          "model_module_version": "1.5.0",
          "state": {
            "_dom_classes": [],
            "_model_module": "@jupyter-widgets/controls",
            "_model_module_version": "1.5.0",
            "_model_name": "HBoxModel",
            "_view_count": null,
            "_view_module": "@jupyter-widgets/controls",
            "_view_module_version": "1.5.0",
            "_view_name": "HBoxView",
            "box_style": "",
            "children": [
              "IPY_MODEL_a8457c2aad654f4da121d8d3702a3c8d",
              "IPY_MODEL_f8fe4c34965646508dcac2a3b1fd9824",
              "IPY_MODEL_079649a817814ec9a86020de4e7f13a7"
            ],
            "layout": "IPY_MODEL_f198e9fe79684dbca223e66db0f2b7c4"
          }
        },
        "a8457c2aad654f4da121d8d3702a3c8d": {
          "model_module": "@jupyter-widgets/controls",
          "model_name": "HTMLModel",
          "model_module_version": "1.5.0",
          "state": {
            "_dom_classes": [],
            "_model_module": "@jupyter-widgets/controls",
            "_model_module_version": "1.5.0",
            "_model_name": "HTMLModel",
            "_view_count": null,
            "_view_module": "@jupyter-widgets/controls",
            "_view_module_version": "1.5.0",
            "_view_name": "HTMLView",
            "description": "",
            "description_tooltip": null,
            "layout": "IPY_MODEL_c57c2139a65f47c3bb3a9b8331bae08a",
            "placeholder": "​",
            "style": "IPY_MODEL_80df69a7b9e040fb9c16f8b1adec1b06",
            "value": "Graph creation: 100%"
          }
        },
        "f8fe4c34965646508dcac2a3b1fd9824": {
          "model_module": "@jupyter-widgets/controls",
          "model_name": "FloatProgressModel",
          "model_module_version": "1.5.0",
          "state": {
            "_dom_classes": [],
            "_model_module": "@jupyter-widgets/controls",
            "_model_module_version": "1.5.0",
            "_model_name": "FloatProgressModel",
            "_view_count": null,
            "_view_module": "@jupyter-widgets/controls",
            "_view_module_version": "1.5.0",
            "_view_name": "ProgressView",
            "bar_style": "success",
            "description": "",
            "description_tooltip": null,
            "layout": "IPY_MODEL_a5f6d97ffd8944a8aa16ff20bffb4c4f",
            "max": 500,
            "min": 0,
            "orientation": "horizontal",
            "style": "IPY_MODEL_2d7e119a950647edb908e5378cf10b40",
            "value": 500
          }
        },
        "079649a817814ec9a86020de4e7f13a7": {
          "model_module": "@jupyter-widgets/controls",
          "model_name": "HTMLModel",
          "model_module_version": "1.5.0",
          "state": {
            "_dom_classes": [],
            "_model_module": "@jupyter-widgets/controls",
            "_model_module_version": "1.5.0",
            "_model_name": "HTMLModel",
            "_view_count": null,
            "_view_module": "@jupyter-widgets/controls",
            "_view_module_version": "1.5.0",
            "_view_name": "HTMLView",
            "description": "",
            "description_tooltip": null,
            "layout": "IPY_MODEL_e471e0b66e26488a8136620f214f4e8d",
            "placeholder": "​",
            "style": "IPY_MODEL_d010bb53846e4790b2134977545e133f",
            "value": " 500/500 [00:00&lt;00:00, 846.42it/s]"
          }
        },
        "f198e9fe79684dbca223e66db0f2b7c4": {
          "model_module": "@jupyter-widgets/base",
          "model_name": "LayoutModel",
          "model_module_version": "1.2.0",
          "state": {
            "_model_module": "@jupyter-widgets/base",
            "_model_module_version": "1.2.0",
            "_model_name": "LayoutModel",
            "_view_count": null,
            "_view_module": "@jupyter-widgets/base",
            "_view_module_version": "1.2.0",
            "_view_name": "LayoutView",
            "align_content": null,
            "align_items": null,
            "align_self": null,
            "border": null,
            "bottom": null,
            "display": null,
            "flex": null,
            "flex_flow": null,
            "grid_area": null,
            "grid_auto_columns": null,
            "grid_auto_flow": null,
            "grid_auto_rows": null,
            "grid_column": null,
            "grid_gap": null,
            "grid_row": null,
            "grid_template_areas": null,
            "grid_template_columns": null,
            "grid_template_rows": null,
            "height": null,
            "justify_content": null,
            "justify_items": null,
            "left": null,
            "margin": null,
            "max_height": null,
            "max_width": null,
            "min_height": null,
            "min_width": null,
            "object_fit": null,
            "object_position": null,
            "order": null,
            "overflow": null,
            "overflow_x": null,
            "overflow_y": null,
            "padding": null,
            "right": null,
            "top": null,
            "visibility": null,
            "width": null
          }
        },
        "c57c2139a65f47c3bb3a9b8331bae08a": {
          "model_module": "@jupyter-widgets/base",
          "model_name": "LayoutModel",
          "model_module_version": "1.2.0",
          "state": {
            "_model_module": "@jupyter-widgets/base",
            "_model_module_version": "1.2.0",
            "_model_name": "LayoutModel",
            "_view_count": null,
            "_view_module": "@jupyter-widgets/base",
            "_view_module_version": "1.2.0",
            "_view_name": "LayoutView",
            "align_content": null,
            "align_items": null,
            "align_self": null,
            "border": null,
            "bottom": null,
            "display": null,
            "flex": null,
            "flex_flow": null,
            "grid_area": null,
            "grid_auto_columns": null,
            "grid_auto_flow": null,
            "grid_auto_rows": null,
            "grid_column": null,
            "grid_gap": null,
            "grid_row": null,
            "grid_template_areas": null,
            "grid_template_columns": null,
            "grid_template_rows": null,
            "height": null,
            "justify_content": null,
            "justify_items": null,
            "left": null,
            "margin": null,
            "max_height": null,
            "max_width": null,
            "min_height": null,
            "min_width": null,
            "object_fit": null,
            "object_position": null,
            "order": null,
            "overflow": null,
            "overflow_x": null,
            "overflow_y": null,
            "padding": null,
            "right": null,
            "top": null,
            "visibility": null,
            "width": null
          }
        },
        "80df69a7b9e040fb9c16f8b1adec1b06": {
          "model_module": "@jupyter-widgets/controls",
          "model_name": "DescriptionStyleModel",
          "model_module_version": "1.5.0",
          "state": {
            "_model_module": "@jupyter-widgets/controls",
            "_model_module_version": "1.5.0",
            "_model_name": "DescriptionStyleModel",
            "_view_count": null,
            "_view_module": "@jupyter-widgets/base",
            "_view_module_version": "1.2.0",
            "_view_name": "StyleView",
            "description_width": ""
          }
        },
        "a5f6d97ffd8944a8aa16ff20bffb4c4f": {
          "model_module": "@jupyter-widgets/base",
          "model_name": "LayoutModel",
          "model_module_version": "1.2.0",
          "state": {
            "_model_module": "@jupyter-widgets/base",
            "_model_module_version": "1.2.0",
            "_model_name": "LayoutModel",
            "_view_count": null,
            "_view_module": "@jupyter-widgets/base",
            "_view_module_version": "1.2.0",
            "_view_name": "LayoutView",
            "align_content": null,
            "align_items": null,
            "align_self": null,
            "border": null,
            "bottom": null,
            "display": null,
            "flex": null,
            "flex_flow": null,
            "grid_area": null,
            "grid_auto_columns": null,
            "grid_auto_flow": null,
            "grid_auto_rows": null,
            "grid_column": null,
            "grid_gap": null,
            "grid_row": null,
            "grid_template_areas": null,
            "grid_template_columns": null,
            "grid_template_rows": null,
            "height": null,
            "justify_content": null,
            "justify_items": null,
            "left": null,
            "margin": null,
            "max_height": null,
            "max_width": null,
            "min_height": null,
            "min_width": null,
            "object_fit": null,
            "object_position": null,
            "order": null,
            "overflow": null,
            "overflow_x": null,
            "overflow_y": null,
            "padding": null,
            "right": null,
            "top": null,
            "visibility": null,
            "width": null
          }
        },
        "2d7e119a950647edb908e5378cf10b40": {
          "model_module": "@jupyter-widgets/controls",
          "model_name": "ProgressStyleModel",
          "model_module_version": "1.5.0",
          "state": {
            "_model_module": "@jupyter-widgets/controls",
            "_model_module_version": "1.5.0",
            "_model_name": "ProgressStyleModel",
            "_view_count": null,
            "_view_module": "@jupyter-widgets/base",
            "_view_module_version": "1.2.0",
            "_view_name": "StyleView",
            "bar_color": null,
            "description_width": ""
          }
        },
        "e471e0b66e26488a8136620f214f4e8d": {
          "model_module": "@jupyter-widgets/base",
          "model_name": "LayoutModel",
          "model_module_version": "1.2.0",
          "state": {
            "_model_module": "@jupyter-widgets/base",
            "_model_module_version": "1.2.0",
            "_model_name": "LayoutModel",
            "_view_count": null,
            "_view_module": "@jupyter-widgets/base",
            "_view_module_version": "1.2.0",
            "_view_name": "LayoutView",
            "align_content": null,
            "align_items": null,
            "align_self": null,
            "border": null,
            "bottom": null,
            "display": null,
            "flex": null,
            "flex_flow": null,
            "grid_area": null,
            "grid_auto_columns": null,
            "grid_auto_flow": null,
            "grid_auto_rows": null,
            "grid_column": null,
            "grid_gap": null,
            "grid_row": null,
            "grid_template_areas": null,
            "grid_template_columns": null,
            "grid_template_rows": null,
            "height": null,
            "justify_content": null,
            "justify_items": null,
            "left": null,
            "margin": null,
            "max_height": null,
            "max_width": null,
            "min_height": null,
            "min_width": null,
            "object_fit": null,
            "object_position": null,
            "order": null,
            "overflow": null,
            "overflow_x": null,
            "overflow_y": null,
            "padding": null,
            "right": null,
            "top": null,
            "visibility": null,
            "width": null
          }
        },
        "d010bb53846e4790b2134977545e133f": {
          "model_module": "@jupyter-widgets/controls",
          "model_name": "DescriptionStyleModel",
          "model_module_version": "1.5.0",
          "state": {
            "_model_module": "@jupyter-widgets/controls",
            "_model_module_version": "1.5.0",
            "_model_name": "DescriptionStyleModel",
            "_view_count": null,
            "_view_module": "@jupyter-widgets/base",
            "_view_module_version": "1.2.0",
            "_view_name": "StyleView",
            "description_width": ""
          }
        },
        "9c58148651564ac3be7af82d69c787cb": {
          "model_module": "@jupyter-widgets/controls",
          "model_name": "HBoxModel",
          "model_module_version": "1.5.0",
          "state": {
            "_dom_classes": [],
            "_model_module": "@jupyter-widgets/controls",
            "_model_module_version": "1.5.0",
            "_model_name": "HBoxModel",
            "_view_count": null,
            "_view_module": "@jupyter-widgets/controls",
            "_view_module_version": "1.5.0",
            "_view_name": "HBoxView",
            "box_style": "",
            "children": [
              "IPY_MODEL_24430d9d3aac49dd80e1fdde4a8057d8",
              "IPY_MODEL_7347e2aa33444981b6d1927d030cf5ed",
              "IPY_MODEL_54c1220d296e4257b52f8a962f007130"
            ],
            "layout": "IPY_MODEL_eeef1161b87a4be9b9fe760db3740e80"
          }
        },
        "24430d9d3aac49dd80e1fdde4a8057d8": {
          "model_module": "@jupyter-widgets/controls",
          "model_name": "HTMLModel",
          "model_module_version": "1.5.0",
          "state": {
            "_dom_classes": [],
            "_model_module": "@jupyter-widgets/controls",
            "_model_module_version": "1.5.0",
            "_model_name": "HTMLModel",
            "_view_count": null,
            "_view_module": "@jupyter-widgets/controls",
            "_view_module_version": "1.5.0",
            "_view_name": "HTMLView",
            "description": "",
            "description_tooltip": null,
            "layout": "IPY_MODEL_3efa2b370ae741989f59654173c86a56",
            "placeholder": "​",
            "style": "IPY_MODEL_381d173ea6f2413ba28d2982af85aa39",
            "value": "valid graph creation: 100%"
          }
        },
        "7347e2aa33444981b6d1927d030cf5ed": {
          "model_module": "@jupyter-widgets/controls",
          "model_name": "FloatProgressModel",
          "model_module_version": "1.5.0",
          "state": {
            "_dom_classes": [],
            "_model_module": "@jupyter-widgets/controls",
            "_model_module_version": "1.5.0",
            "_model_name": "FloatProgressModel",
            "_view_count": null,
            "_view_module": "@jupyter-widgets/controls",
            "_view_module_version": "1.5.0",
            "_view_name": "ProgressView",
            "bar_style": "success",
            "description": "",
            "description_tooltip": null,
            "layout": "IPY_MODEL_5ca270dcddf442f1b7cae5275be76136",
            "max": 100,
            "min": 0,
            "orientation": "horizontal",
            "style": "IPY_MODEL_d26dffdb2c3d4de99bde124cbc12c683",
            "value": 100
          }
        },
        "54c1220d296e4257b52f8a962f007130": {
          "model_module": "@jupyter-widgets/controls",
          "model_name": "HTMLModel",
          "model_module_version": "1.5.0",
          "state": {
            "_dom_classes": [],
            "_model_module": "@jupyter-widgets/controls",
            "_model_module_version": "1.5.0",
            "_model_name": "HTMLModel",
            "_view_count": null,
            "_view_module": "@jupyter-widgets/controls",
            "_view_module_version": "1.5.0",
            "_view_name": "HTMLView",
            "description": "",
            "description_tooltip": null,
            "layout": "IPY_MODEL_56406e18b577423fbf2abc5d31c5a1bb",
            "placeholder": "​",
            "style": "IPY_MODEL_bc65ab988f8149efb1940c62c8ae2834",
            "value": " 100/100 [00:00&lt;00:00, 678.81it/s]"
          }
        },
        "eeef1161b87a4be9b9fe760db3740e80": {
          "model_module": "@jupyter-widgets/base",
          "model_name": "LayoutModel",
          "model_module_version": "1.2.0",
          "state": {
            "_model_module": "@jupyter-widgets/base",
            "_model_module_version": "1.2.0",
            "_model_name": "LayoutModel",
            "_view_count": null,
            "_view_module": "@jupyter-widgets/base",
            "_view_module_version": "1.2.0",
            "_view_name": "LayoutView",
            "align_content": null,
            "align_items": null,
            "align_self": null,
            "border": null,
            "bottom": null,
            "display": null,
            "flex": null,
            "flex_flow": null,
            "grid_area": null,
            "grid_auto_columns": null,
            "grid_auto_flow": null,
            "grid_auto_rows": null,
            "grid_column": null,
            "grid_gap": null,
            "grid_row": null,
            "grid_template_areas": null,
            "grid_template_columns": null,
            "grid_template_rows": null,
            "height": null,
            "justify_content": null,
            "justify_items": null,
            "left": null,
            "margin": null,
            "max_height": null,
            "max_width": null,
            "min_height": null,
            "min_width": null,
            "object_fit": null,
            "object_position": null,
            "order": null,
            "overflow": null,
            "overflow_x": null,
            "overflow_y": null,
            "padding": null,
            "right": null,
            "top": null,
            "visibility": null,
            "width": null
          }
        },
        "3efa2b370ae741989f59654173c86a56": {
          "model_module": "@jupyter-widgets/base",
          "model_name": "LayoutModel",
          "model_module_version": "1.2.0",
          "state": {
            "_model_module": "@jupyter-widgets/base",
            "_model_module_version": "1.2.0",
            "_model_name": "LayoutModel",
            "_view_count": null,
            "_view_module": "@jupyter-widgets/base",
            "_view_module_version": "1.2.0",
            "_view_name": "LayoutView",
            "align_content": null,
            "align_items": null,
            "align_self": null,
            "border": null,
            "bottom": null,
            "display": null,
            "flex": null,
            "flex_flow": null,
            "grid_area": null,
            "grid_auto_columns": null,
            "grid_auto_flow": null,
            "grid_auto_rows": null,
            "grid_column": null,
            "grid_gap": null,
            "grid_row": null,
            "grid_template_areas": null,
            "grid_template_columns": null,
            "grid_template_rows": null,
            "height": null,
            "justify_content": null,
            "justify_items": null,
            "left": null,
            "margin": null,
            "max_height": null,
            "max_width": null,
            "min_height": null,
            "min_width": null,
            "object_fit": null,
            "object_position": null,
            "order": null,
            "overflow": null,
            "overflow_x": null,
            "overflow_y": null,
            "padding": null,
            "right": null,
            "top": null,
            "visibility": null,
            "width": null
          }
        },
        "381d173ea6f2413ba28d2982af85aa39": {
          "model_module": "@jupyter-widgets/controls",
          "model_name": "DescriptionStyleModel",
          "model_module_version": "1.5.0",
          "state": {
            "_model_module": "@jupyter-widgets/controls",
            "_model_module_version": "1.5.0",
            "_model_name": "DescriptionStyleModel",
            "_view_count": null,
            "_view_module": "@jupyter-widgets/base",
            "_view_module_version": "1.2.0",
            "_view_name": "StyleView",
            "description_width": ""
          }
        },
        "5ca270dcddf442f1b7cae5275be76136": {
          "model_module": "@jupyter-widgets/base",
          "model_name": "LayoutModel",
          "model_module_version": "1.2.0",
          "state": {
            "_model_module": "@jupyter-widgets/base",
            "_model_module_version": "1.2.0",
            "_model_name": "LayoutModel",
            "_view_count": null,
            "_view_module": "@jupyter-widgets/base",
            "_view_module_version": "1.2.0",
            "_view_name": "LayoutView",
            "align_content": null,
            "align_items": null,
            "align_self": null,
            "border": null,
            "bottom": null,
            "display": null,
            "flex": null,
            "flex_flow": null,
            "grid_area": null,
            "grid_auto_columns": null,
            "grid_auto_flow": null,
            "grid_auto_rows": null,
            "grid_column": null,
            "grid_gap": null,
            "grid_row": null,
            "grid_template_areas": null,
            "grid_template_columns": null,
            "grid_template_rows": null,
            "height": null,
            "justify_content": null,
            "justify_items": null,
            "left": null,
            "margin": null,
            "max_height": null,
            "max_width": null,
            "min_height": null,
            "min_width": null,
            "object_fit": null,
            "object_position": null,
            "order": null,
            "overflow": null,
            "overflow_x": null,
            "overflow_y": null,
            "padding": null,
            "right": null,
            "top": null,
            "visibility": null,
            "width": null
          }
        },
        "d26dffdb2c3d4de99bde124cbc12c683": {
          "model_module": "@jupyter-widgets/controls",
          "model_name": "ProgressStyleModel",
          "model_module_version": "1.5.0",
          "state": {
            "_model_module": "@jupyter-widgets/controls",
            "_model_module_version": "1.5.0",
            "_model_name": "ProgressStyleModel",
            "_view_count": null,
            "_view_module": "@jupyter-widgets/base",
            "_view_module_version": "1.2.0",
            "_view_name": "StyleView",
            "bar_color": null,
            "description_width": ""
          }
        },
        "56406e18b577423fbf2abc5d31c5a1bb": {
          "model_module": "@jupyter-widgets/base",
          "model_name": "LayoutModel",
          "model_module_version": "1.2.0",
          "state": {
            "_model_module": "@jupyter-widgets/base",
            "_model_module_version": "1.2.0",
            "_model_name": "LayoutModel",
            "_view_count": null,
            "_view_module": "@jupyter-widgets/base",
            "_view_module_version": "1.2.0",
            "_view_name": "LayoutView",
            "align_content": null,
            "align_items": null,
            "align_self": null,
            "border": null,
            "bottom": null,
            "display": null,
            "flex": null,
            "flex_flow": null,
            "grid_area": null,
            "grid_auto_columns": null,
            "grid_auto_flow": null,
            "grid_auto_rows": null,
            "grid_column": null,
            "grid_gap": null,
            "grid_row": null,
            "grid_template_areas": null,
            "grid_template_columns": null,
            "grid_template_rows": null,
            "height": null,
            "justify_content": null,
            "justify_items": null,
            "left": null,
            "margin": null,
            "max_height": null,
            "max_width": null,
            "min_height": null,
            "min_width": null,
            "object_fit": null,
            "object_position": null,
            "order": null,
            "overflow": null,
            "overflow_x": null,
            "overflow_y": null,
            "padding": null,
            "right": null,
            "top": null,
            "visibility": null,
            "width": null
          }
        },
        "bc65ab988f8149efb1940c62c8ae2834": {
          "model_module": "@jupyter-widgets/controls",
          "model_name": "DescriptionStyleModel",
          "model_module_version": "1.5.0",
          "state": {
            "_model_module": "@jupyter-widgets/controls",
            "_model_module_version": "1.5.0",
            "_model_name": "DescriptionStyleModel",
            "_view_count": null,
            "_view_module": "@jupyter-widgets/base",
            "_view_module_version": "1.2.0",
            "_view_name": "StyleView",
            "description_width": ""
          }
        },
        "1b3c7effe5094a7a970771e337c7d545": {
          "model_module": "@jupyter-widgets/controls",
          "model_name": "HBoxModel",
          "model_module_version": "1.5.0",
          "state": {
            "_dom_classes": [],
            "_model_module": "@jupyter-widgets/controls",
            "_model_module_version": "1.5.0",
            "_model_name": "HBoxModel",
            "_view_count": null,
            "_view_module": "@jupyter-widgets/controls",
            "_view_module_version": "1.5.0",
            "_view_name": "HBoxView",
            "box_style": "",
            "children": [
              "IPY_MODEL_fa23ff0ff18f40e5911876f0efbb7cc9",
              "IPY_MODEL_600f3e410f4a4fe3894a5aa1cd23d3a4",
              "IPY_MODEL_86b4f48a49cb437eafac1a13316f4a3e"
            ],
            "layout": "IPY_MODEL_ceea0523dc1b486eba6b0357aa467c29"
          }
        },
        "fa23ff0ff18f40e5911876f0efbb7cc9": {
          "model_module": "@jupyter-widgets/controls",
          "model_name": "HTMLModel",
          "model_module_version": "1.5.0",
          "state": {
            "_dom_classes": [],
            "_model_module": "@jupyter-widgets/controls",
            "_model_module_version": "1.5.0",
            "_model_name": "HTMLModel",
            "_view_count": null,
            "_view_module": "@jupyter-widgets/controls",
            "_view_module_version": "1.5.0",
            "_view_name": "HTMLView",
            "description": "",
            "description_tooltip": null,
            "layout": "IPY_MODEL_6273dd33c56249e7b1d493b62b4065e2",
            "placeholder": "​",
            "style": "IPY_MODEL_0d161921bb1f475a9196e5a5109b8c92",
            "value": "test graph creation: "
          }
        },
        "600f3e410f4a4fe3894a5aa1cd23d3a4": {
          "model_module": "@jupyter-widgets/controls",
          "model_name": "FloatProgressModel",
          "model_module_version": "1.5.0",
          "state": {
            "_dom_classes": [],
            "_model_module": "@jupyter-widgets/controls",
            "_model_module_version": "1.5.0",
            "_model_name": "FloatProgressModel",
            "_view_count": null,
            "_view_module": "@jupyter-widgets/controls",
            "_view_module_version": "1.5.0",
            "_view_name": "ProgressView",
            "bar_style": "success",
            "description": "",
            "description_tooltip": null,
            "layout": "IPY_MODEL_05c7a75ddc0b45d59eacce03468f32ce",
            "max": 1,
            "min": 0,
            "orientation": "horizontal",
            "style": "IPY_MODEL_c8e2c65314244e7988e2fd31a4d32d40",
            "value": 0
          }
        },
        "86b4f48a49cb437eafac1a13316f4a3e": {
          "model_module": "@jupyter-widgets/controls",
          "model_name": "HTMLModel",
          "model_module_version": "1.5.0",
          "state": {
            "_dom_classes": [],
            "_model_module": "@jupyter-widgets/controls",
            "_model_module_version": "1.5.0",
            "_model_name": "HTMLModel",
            "_view_count": null,
            "_view_module": "@jupyter-widgets/controls",
            "_view_module_version": "1.5.0",
            "_view_name": "HTMLView",
            "description": "",
            "description_tooltip": null,
            "layout": "IPY_MODEL_ef1429fb00544e7da8270770e0a71a6e",
            "placeholder": "​",
            "style": "IPY_MODEL_5b2e790c5cb94de690d2daa940d4c508",
            "value": " 0/0 [00:00&lt;?, ?it/s]"
          }
        },
        "ceea0523dc1b486eba6b0357aa467c29": {
          "model_module": "@jupyter-widgets/base",
          "model_name": "LayoutModel",
          "model_module_version": "1.2.0",
          "state": {
            "_model_module": "@jupyter-widgets/base",
            "_model_module_version": "1.2.0",
            "_model_name": "LayoutModel",
            "_view_count": null,
            "_view_module": "@jupyter-widgets/base",
            "_view_module_version": "1.2.0",
            "_view_name": "LayoutView",
            "align_content": null,
            "align_items": null,
            "align_self": null,
            "border": null,
            "bottom": null,
            "display": null,
            "flex": null,
            "flex_flow": null,
            "grid_area": null,
            "grid_auto_columns": null,
            "grid_auto_flow": null,
            "grid_auto_rows": null,
            "grid_column": null,
            "grid_gap": null,
            "grid_row": null,
            "grid_template_areas": null,
            "grid_template_columns": null,
            "grid_template_rows": null,
            "height": null,
            "justify_content": null,
            "justify_items": null,
            "left": null,
            "margin": null,
            "max_height": null,
            "max_width": null,
            "min_height": null,
            "min_width": null,
            "object_fit": null,
            "object_position": null,
            "order": null,
            "overflow": null,
            "overflow_x": null,
            "overflow_y": null,
            "padding": null,
            "right": null,
            "top": null,
            "visibility": null,
            "width": null
          }
        },
        "6273dd33c56249e7b1d493b62b4065e2": {
          "model_module": "@jupyter-widgets/base",
          "model_name": "LayoutModel",
          "model_module_version": "1.2.0",
          "state": {
            "_model_module": "@jupyter-widgets/base",
            "_model_module_version": "1.2.0",
            "_model_name": "LayoutModel",
            "_view_count": null,
            "_view_module": "@jupyter-widgets/base",
            "_view_module_version": "1.2.0",
            "_view_name": "LayoutView",
            "align_content": null,
            "align_items": null,
            "align_self": null,
            "border": null,
            "bottom": null,
            "display": null,
            "flex": null,
            "flex_flow": null,
            "grid_area": null,
            "grid_auto_columns": null,
            "grid_auto_flow": null,
            "grid_auto_rows": null,
            "grid_column": null,
            "grid_gap": null,
            "grid_row": null,
            "grid_template_areas": null,
            "grid_template_columns": null,
            "grid_template_rows": null,
            "height": null,
            "justify_content": null,
            "justify_items": null,
            "left": null,
            "margin": null,
            "max_height": null,
            "max_width": null,
            "min_height": null,
            "min_width": null,
            "object_fit": null,
            "object_position": null,
            "order": null,
            "overflow": null,
            "overflow_x": null,
            "overflow_y": null,
            "padding": null,
            "right": null,
            "top": null,
            "visibility": null,
            "width": null
          }
        },
        "0d161921bb1f475a9196e5a5109b8c92": {
          "model_module": "@jupyter-widgets/controls",
          "model_name": "DescriptionStyleModel",
          "model_module_version": "1.5.0",
          "state": {
            "_model_module": "@jupyter-widgets/controls",
            "_model_module_version": "1.5.0",
            "_model_name": "DescriptionStyleModel",
            "_view_count": null,
            "_view_module": "@jupyter-widgets/base",
            "_view_module_version": "1.2.0",
            "_view_name": "StyleView",
            "description_width": ""
          }
        },
        "05c7a75ddc0b45d59eacce03468f32ce": {
          "model_module": "@jupyter-widgets/base",
          "model_name": "LayoutModel",
          "model_module_version": "1.2.0",
          "state": {
            "_model_module": "@jupyter-widgets/base",
            "_model_module_version": "1.2.0",
            "_model_name": "LayoutModel",
            "_view_count": null,
            "_view_module": "@jupyter-widgets/base",
            "_view_module_version": "1.2.0",
            "_view_name": "LayoutView",
            "align_content": null,
            "align_items": null,
            "align_self": null,
            "border": null,
            "bottom": null,
            "display": null,
            "flex": null,
            "flex_flow": null,
            "grid_area": null,
            "grid_auto_columns": null,
            "grid_auto_flow": null,
            "grid_auto_rows": null,
            "grid_column": null,
            "grid_gap": null,
            "grid_row": null,
            "grid_template_areas": null,
            "grid_template_columns": null,
            "grid_template_rows": null,
            "height": null,
            "justify_content": null,
            "justify_items": null,
            "left": null,
            "margin": null,
            "max_height": null,
            "max_width": null,
            "min_height": null,
            "min_width": null,
            "object_fit": null,
            "object_position": null,
            "order": null,
            "overflow": null,
            "overflow_x": null,
            "overflow_y": null,
            "padding": null,
            "right": null,
            "top": null,
            "visibility": null,
            "width": "20px"
          }
        },
        "c8e2c65314244e7988e2fd31a4d32d40": {
          "model_module": "@jupyter-widgets/controls",
          "model_name": "ProgressStyleModel",
          "model_module_version": "1.5.0",
          "state": {
            "_model_module": "@jupyter-widgets/controls",
            "_model_module_version": "1.5.0",
            "_model_name": "ProgressStyleModel",
            "_view_count": null,
            "_view_module": "@jupyter-widgets/base",
            "_view_module_version": "1.2.0",
            "_view_name": "StyleView",
            "bar_color": null,
            "description_width": ""
          }
        },
        "ef1429fb00544e7da8270770e0a71a6e": {
          "model_module": "@jupyter-widgets/base",
          "model_name": "LayoutModel",
          "model_module_version": "1.2.0",
          "state": {
            "_model_module": "@jupyter-widgets/base",
            "_model_module_version": "1.2.0",
            "_model_name": "LayoutModel",
            "_view_count": null,
            "_view_module": "@jupyter-widgets/base",
            "_view_module_version": "1.2.0",
            "_view_name": "LayoutView",
            "align_content": null,
            "align_items": null,
            "align_self": null,
            "border": null,
            "bottom": null,
            "display": null,
            "flex": null,
            "flex_flow": null,
            "grid_area": null,
            "grid_auto_columns": null,
            "grid_auto_flow": null,
            "grid_auto_rows": null,
            "grid_column": null,
            "grid_gap": null,
            "grid_row": null,
            "grid_template_areas": null,
            "grid_template_columns": null,
            "grid_template_rows": null,
            "height": null,
            "justify_content": null,
            "justify_items": null,
            "left": null,
            "margin": null,
            "max_height": null,
            "max_width": null,
            "min_height": null,
            "min_width": null,
            "object_fit": null,
            "object_position": null,
            "order": null,
            "overflow": null,
            "overflow_x": null,
            "overflow_y": null,
            "padding": null,
            "right": null,
            "top": null,
            "visibility": null,
            "width": null
          }
        },
        "5b2e790c5cb94de690d2daa940d4c508": {
          "model_module": "@jupyter-widgets/controls",
          "model_name": "DescriptionStyleModel",
          "model_module_version": "1.5.0",
          "state": {
            "_model_module": "@jupyter-widgets/controls",
            "_model_module_version": "1.5.0",
            "_model_name": "DescriptionStyleModel",
            "_view_count": null,
            "_view_module": "@jupyter-widgets/base",
            "_view_module_version": "1.2.0",
            "_view_name": "StyleView",
            "description_width": ""
          }
        },
        "c52d75a7389843e493530e9a244f310a": {
          "model_module": "@jupyter-widgets/controls",
          "model_name": "HBoxModel",
          "model_module_version": "1.5.0",
          "state": {
            "_dom_classes": [],
            "_model_module": "@jupyter-widgets/controls",
            "_model_module_version": "1.5.0",
            "_model_name": "HBoxModel",
            "_view_count": null,
            "_view_module": "@jupyter-widgets/controls",
            "_view_module_version": "1.5.0",
            "_view_name": "HBoxView",
            "box_style": "",
            "children": [
              "IPY_MODEL_c09ea59459824960862d5ed37cbda136",
              "IPY_MODEL_d57c951372f741a196d08ff773fbbccf",
              "IPY_MODEL_59ec1e8783554866a53806ded14f0a98"
            ],
            "layout": "IPY_MODEL_47784065a3ce41789dc930e6326a6fae"
          }
        },
        "c09ea59459824960862d5ed37cbda136": {
          "model_module": "@jupyter-widgets/controls",
          "model_name": "HTMLModel",
          "model_module_version": "1.5.0",
          "state": {
            "_dom_classes": [],
            "_model_module": "@jupyter-widgets/controls",
            "_model_module_version": "1.5.0",
            "_model_name": "HTMLModel",
            "_view_count": null,
            "_view_module": "@jupyter-widgets/controls",
            "_view_module_version": "1.5.0",
            "_view_name": "HTMLView",
            "description": "",
            "description_tooltip": null,
            "layout": "IPY_MODEL_b6c63f2ca93941829c64052b9a9f6346",
            "placeholder": "​",
            "style": "IPY_MODEL_c9e3acc826484d019000be4c84affd35",
            "value": "Average number of neighbors computation: 100%"
          }
        },
        "d57c951372f741a196d08ff773fbbccf": {
          "model_module": "@jupyter-widgets/controls",
          "model_name": "FloatProgressModel",
          "model_module_version": "1.5.0",
          "state": {
            "_dom_classes": [],
            "_model_module": "@jupyter-widgets/controls",
            "_model_module_version": "1.5.0",
            "_model_name": "FloatProgressModel",
            "_view_count": null,
            "_view_module": "@jupyter-widgets/controls",
            "_view_module_version": "1.5.0",
            "_view_name": "ProgressView",
            "bar_style": "success",
            "description": "",
            "description_tooltip": null,
            "layout": "IPY_MODEL_6be3ece365ee4a2aad7b26313d7433ae",
            "max": 500,
            "min": 0,
            "orientation": "horizontal",
            "style": "IPY_MODEL_7442ba6736b14ecb8de9d5673a690640",
            "value": 500
          }
        },
        "59ec1e8783554866a53806ded14f0a98": {
          "model_module": "@jupyter-widgets/controls",
          "model_name": "HTMLModel",
          "model_module_version": "1.5.0",
          "state": {
            "_dom_classes": [],
            "_model_module": "@jupyter-widgets/controls",
            "_model_module_version": "1.5.0",
            "_model_name": "HTMLModel",
            "_view_count": null,
            "_view_module": "@jupyter-widgets/controls",
            "_view_module_version": "1.5.0",
            "_view_name": "HTMLView",
            "description": "",
            "description_tooltip": null,
            "layout": "IPY_MODEL_606f30bcf7b74051bf87e27ba6399c01",
            "placeholder": "​",
            "style": "IPY_MODEL_f7650176229046408c58337538db988c",
            "value": " 500/500 [00:00&lt;00:00, 9185.67it/s]"
          }
        },
        "47784065a3ce41789dc930e6326a6fae": {
          "model_module": "@jupyter-widgets/base",
          "model_name": "LayoutModel",
          "model_module_version": "1.2.0",
          "state": {
            "_model_module": "@jupyter-widgets/base",
            "_model_module_version": "1.2.0",
            "_model_name": "LayoutModel",
            "_view_count": null,
            "_view_module": "@jupyter-widgets/base",
            "_view_module_version": "1.2.0",
            "_view_name": "LayoutView",
            "align_content": null,
            "align_items": null,
            "align_self": null,
            "border": null,
            "bottom": null,
            "display": null,
            "flex": null,
            "flex_flow": null,
            "grid_area": null,
            "grid_auto_columns": null,
            "grid_auto_flow": null,
            "grid_auto_rows": null,
            "grid_column": null,
            "grid_gap": null,
            "grid_row": null,
            "grid_template_areas": null,
            "grid_template_columns": null,
            "grid_template_rows": null,
            "height": null,
            "justify_content": null,
            "justify_items": null,
            "left": null,
            "margin": null,
            "max_height": null,
            "max_width": null,
            "min_height": null,
            "min_width": null,
            "object_fit": null,
            "object_position": null,
            "order": null,
            "overflow": null,
            "overflow_x": null,
            "overflow_y": null,
            "padding": null,
            "right": null,
            "top": null,
            "visibility": null,
            "width": null
          }
        },
        "b6c63f2ca93941829c64052b9a9f6346": {
          "model_module": "@jupyter-widgets/base",
          "model_name": "LayoutModel",
          "model_module_version": "1.2.0",
          "state": {
            "_model_module": "@jupyter-widgets/base",
            "_model_module_version": "1.2.0",
            "_model_name": "LayoutModel",
            "_view_count": null,
            "_view_module": "@jupyter-widgets/base",
            "_view_module_version": "1.2.0",
            "_view_name": "LayoutView",
            "align_content": null,
            "align_items": null,
            "align_self": null,
            "border": null,
            "bottom": null,
            "display": null,
            "flex": null,
            "flex_flow": null,
            "grid_area": null,
            "grid_auto_columns": null,
            "grid_auto_flow": null,
            "grid_auto_rows": null,
            "grid_column": null,
            "grid_gap": null,
            "grid_row": null,
            "grid_template_areas": null,
            "grid_template_columns": null,
            "grid_template_rows": null,
            "height": null,
            "justify_content": null,
            "justify_items": null,
            "left": null,
            "margin": null,
            "max_height": null,
            "max_width": null,
            "min_height": null,
            "min_width": null,
            "object_fit": null,
            "object_position": null,
            "order": null,
            "overflow": null,
            "overflow_x": null,
            "overflow_y": null,
            "padding": null,
            "right": null,
            "top": null,
            "visibility": null,
            "width": null
          }
        },
        "c9e3acc826484d019000be4c84affd35": {
          "model_module": "@jupyter-widgets/controls",
          "model_name": "DescriptionStyleModel",
          "model_module_version": "1.5.0",
          "state": {
            "_model_module": "@jupyter-widgets/controls",
            "_model_module_version": "1.5.0",
            "_model_name": "DescriptionStyleModel",
            "_view_count": null,
            "_view_module": "@jupyter-widgets/base",
            "_view_module_version": "1.2.0",
            "_view_name": "StyleView",
            "description_width": ""
          }
        },
        "6be3ece365ee4a2aad7b26313d7433ae": {
          "model_module": "@jupyter-widgets/base",
          "model_name": "LayoutModel",
          "model_module_version": "1.2.0",
          "state": {
            "_model_module": "@jupyter-widgets/base",
            "_model_module_version": "1.2.0",
            "_model_name": "LayoutModel",
            "_view_count": null,
            "_view_module": "@jupyter-widgets/base",
            "_view_module_version": "1.2.0",
            "_view_name": "LayoutView",
            "align_content": null,
            "align_items": null,
            "align_self": null,
            "border": null,
            "bottom": null,
            "display": null,
            "flex": null,
            "flex_flow": null,
            "grid_area": null,
            "grid_auto_columns": null,
            "grid_auto_flow": null,
            "grid_auto_rows": null,
            "grid_column": null,
            "grid_gap": null,
            "grid_row": null,
            "grid_template_areas": null,
            "grid_template_columns": null,
            "grid_template_rows": null,
            "height": null,
            "justify_content": null,
            "justify_items": null,
            "left": null,
            "margin": null,
            "max_height": null,
            "max_width": null,
            "min_height": null,
            "min_width": null,
            "object_fit": null,
            "object_position": null,
            "order": null,
            "overflow": null,
            "overflow_x": null,
            "overflow_y": null,
            "padding": null,
            "right": null,
            "top": null,
            "visibility": null,
            "width": null
          }
        },
        "7442ba6736b14ecb8de9d5673a690640": {
          "model_module": "@jupyter-widgets/controls",
          "model_name": "ProgressStyleModel",
          "model_module_version": "1.5.0",
          "state": {
            "_model_module": "@jupyter-widgets/controls",
            "_model_module_version": "1.5.0",
            "_model_name": "ProgressStyleModel",
            "_view_count": null,
            "_view_module": "@jupyter-widgets/base",
            "_view_module_version": "1.2.0",
            "_view_name": "StyleView",
            "bar_color": null,
            "description_width": ""
          }
        },
        "606f30bcf7b74051bf87e27ba6399c01": {
          "model_module": "@jupyter-widgets/base",
          "model_name": "LayoutModel",
          "model_module_version": "1.2.0",
          "state": {
            "_model_module": "@jupyter-widgets/base",
            "_model_module_version": "1.2.0",
            "_model_name": "LayoutModel",
            "_view_count": null,
            "_view_module": "@jupyter-widgets/base",
            "_view_module_version": "1.2.0",
            "_view_name": "LayoutView",
            "align_content": null,
            "align_items": null,
            "align_self": null,
            "border": null,
            "bottom": null,
            "display": null,
            "flex": null,
            "flex_flow": null,
            "grid_area": null,
            "grid_auto_columns": null,
            "grid_auto_flow": null,
            "grid_auto_rows": null,
            "grid_column": null,
            "grid_gap": null,
            "grid_row": null,
            "grid_template_areas": null,
            "grid_template_columns": null,
            "grid_template_rows": null,
            "height": null,
            "justify_content": null,
            "justify_items": null,
            "left": null,
            "margin": null,
            "max_height": null,
            "max_width": null,
            "min_height": null,
            "min_width": null,
            "object_fit": null,
            "object_position": null,
            "order": null,
            "overflow": null,
            "overflow_x": null,
            "overflow_y": null,
            "padding": null,
            "right": null,
            "top": null,
            "visibility": null,
            "width": null
          }
        },
        "f7650176229046408c58337538db988c": {
          "model_module": "@jupyter-widgets/controls",
          "model_name": "DescriptionStyleModel",
          "model_module_version": "1.5.0",
          "state": {
            "_model_module": "@jupyter-widgets/controls",
            "_model_module_version": "1.5.0",
            "_model_name": "DescriptionStyleModel",
            "_view_count": null,
            "_view_module": "@jupyter-widgets/base",
            "_view_module_version": "1.2.0",
            "_view_name": "StyleView",
            "description_width": ""
          }
        }
      }
    }
  },
  "nbformat": 4,
  "nbformat_minor": 0
}